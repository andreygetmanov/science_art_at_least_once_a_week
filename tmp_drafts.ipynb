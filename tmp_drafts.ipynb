{
 "cells": [
  {
   "cell_type": "code",
   "id": "initial_id",
   "metadata": {
    "collapsed": true,
    "ExecuteTime": {
     "end_time": "2024-04-11T14:36:25.130518Z",
     "start_time": "2024-04-11T14:36:24.929753Z"
    }
   },
   "source": [
    "import random\n",
    "import json\n",
    "import os\n",
    "from openai import OpenAI\n",
    "from dotenv import load_dotenv\n",
    "\n",
    "load_dotenv()\n",
    "\n",
    "OPENAI_API_KEY = os.getenv('OPENAI_API_KEY')\n",
    "client = OpenAI(api_key=OPENAI_API_KEY)"
   ],
   "outputs": [],
   "execution_count": 1
  },
  {
   "metadata": {
    "ExecuteTime": {
     "end_time": "2024-04-11T14:36:26.091336Z",
     "start_time": "2024-04-11T14:36:25.131286Z"
    }
   },
   "cell_type": "code",
   "source": [
    "from core.artwork_analysis import Artwork, ArtworkRetriever, ArtworkAnalyser\n",
    "\n",
    "OPENAI_API_KEY = os.getenv('OPENAI_API_KEY')\n",
    "source = 'ars_electronica_prizewinners_ru.json'\n",
    "with open(source, 'r', encoding='utf-8') as f:\n",
    "    data = json.load(f)\n",
    "path = 'not_posted.txt'\n",
    "with open(path, 'r') as f:\n",
    "    not_posted = f.readline().split(',')\n",
    "\n",
    "key = random.choice(not_posted)\n",
    "\n",
    "main_artwork_data = data[key]\n",
    "\n",
    "main_artwork = Artwork(main_artwork_data)\n",
    "\n",
    "main_artwork"
   ],
   "id": "a2c444d9bfacd015",
   "outputs": [
    {
     "data": {
      "text/plain": [
       "<core.artwork_analysis.Artwork at 0x7b72e60c07d0>"
      ]
     },
     "execution_count": 2,
     "metadata": {},
     "output_type": "execute_result"
    }
   ],
   "execution_count": 2
  },
  {
   "metadata": {
    "ExecuteTime": {
     "end_time": "2024-04-11T14:37:30.696932Z",
     "start_time": "2024-04-11T14:36:26.092479Z"
    }
   },
   "cell_type": "code",
   "source": [
    "artwork_retriever = ArtworkRetriever(source)\n",
    "related_artworks = artwork_retriever.get_related_artworks(main_artwork)\n",
    "\n",
    "analysis = ArtworkAnalyser(OPENAI_API_KEY)\n",
    "analysis_result = analysis.analyze_artworks(main_artwork, related_artworks)\n",
    "\n",
    "print(analysis_result)"
   ],
   "id": "ff9a465dc816a660",
   "outputs": [
    {
     "name": "stdout",
     "output_type": "stream",
     "text": [
      "Prompt:  Imagine you are an experienced art critic. You are presented with descriptions of three artworks. The first one is the main artwork and two related artworks are similar to the first one. Artworks also have related images, analyze their content and use this analysis in your reviews.\n",
      "\n",
      "**Main artwork**: name: **Transfigurations**, authors: **Agi Haines**, year: **2014**, description: The human body consists of practicable elements that can be easily manipulated and engineered. Through surgical procedures our bodies can be stretched, shifted and sewn, yet still be functional. What then would stop us searching for a higher level of functionality than we have now? Especially if it may have the potential to benefit the younger, more vulnerable and more malleable generation.The exhibit consists of five animatronic sculptures of babies. Each baby shows a different design for a potential body enhancement that has been surgically implemented to benefit the child. Each modification is put in place to solve a potential future problem for the baby, ranging from medical to environmental to social mobility issues.The realistic, breathing, sleeping babies have illustrated descriptions of the surgical procedure and are designed to be interactive. Holding the babies gives the audience a sense of the potential reality behind the future of modification and heightens the ethical conundrum behind the question: “In a future where forced evolution seems to be the only option for a sufficiently rapid advance, what would you do to benefit your child’s life?”Thermal epidermiplasty: a procedure designed to increase surface area of the head to allow for heat dissipation in the wake of global warming.Podiaectomy: the removal of a toe to encourage the contraction of hookworm, an allergy-reducing parasite which may lessen asthma as pollution is worsening.Extension osteogenesis: a face-shaping procedure creating a more aerodynamic facial structure, which increases the child’s job prospects in sport.Epidermal myostomy: the introduction of a new orifice in a low fatty area, which may help the child medicate itself over longer periods of time.Bibuccalplasty: the extension of the cheeks, encouraging higher absorption of caffeine so the child can work for longer hours.\n",
      "**Related artwork 1**: name: **K-9_topology**, authors: **Maja Smrekar**, year: **2017**, description: What constitutes the human being in a biopolitical dimension of a post-panoptic world?The need to reinvent ourselves with our nonhuman others is investigated in four parts of the *K-9_topology* project, which were carried out between 2014 and 2017. The wolf–human–dog parallel evolution research project, *ECCE CANIS*, focuses on the processes of metabolic pathways that trigger an emotional response that connects humans and dogs and allows them to successfully coexist. The serotonin hormone of Maja Smrekar and Byron, her dog companion, was transformed into an odor, symbolizing the mutual taming of the human and the canine species. The residency at JACANA Wildlife Studios in France focused on the ethology of the wolf. The synergy of interspecies collaboration resulted in a performance called *I HUNT NATURE, AND CULTURE HUNTS ME*. Its symbolical significance was articulated within the context of Smrekar´s emotional childhood memories juxtaposed with the works of Joseph Beuys and Oleg Kulik.The project *HYBRID FAMILY* was related to the theory of becoming-animal by rethinking the social and ideological instrumentalization of a woman´s body and breastfeeding. Overcoming the classical distinction between private life and political existence, Smrekar felt she needed to perform with her own body and the bodies of her dogs to re-gain their position of power by staging a public performance with a puppy Ada. Her own economy of emotions became a molecular process: during a three-month period of seclusion with her dogs, she stimulated her pituitary glands with systematic breastpumping to release the hormone prolactin and followed a diet rich in galactogogues to promote lactation. A side effect was the increase in oxytocin hormone levels, which led to an increase in empathy and her personal resistance to the cynicism of the zeitgeist. By being pregnant with a meaning, and thus becoming (m)Other, Smrekar was further drawn to explore her “decolonial reproductive freedom in a dangerously troubled multispecies world“ (see Haraway, 2016).1 The myth of humanity, based on its uniqueness, has always excluded some that don’t correspond to the ideal, for example animals with regard to parenthood and gender.Addressing a new social ecology in the *ARTE_mis* project, Smrekar fused her molecular self with a doggenetically the closest ancestor to the endangered wild wolf. In a biotechnological laboratory, the cell materials of the two carnivorous species were joined in an equal cohabitation relationship. Her denucleated reproductive cell, harvested in an egg retrieval procedure, was inserted with Ada´s fat cell. Since the concept of IVF treatment paraphrases the institution of family as dispositive of all other forms of oppression, Smrekar juxtaposes *ARTE_mis* as a reference “to think beyond humanist limitations in order to embrace the risks that becoming-other-than human brings forth“. (See Braidotti, 2013)2 Homer refers to Artemis, a Greek goddess of the hunt, the wilderness, and childbirth, who is usually depicted with dogs as her companions, as Potnia Theron, a pre-Greek \"Mistress of Animals\". The hybrid cell is a potential dystopic life scenario that might have more chances of survival on a planet in capitalist ruins.In the *K-9_topology* opus, Smrekar offers an opportunity to rethink the anthropological machine of representation that aims to adjust our sight and thus our perception: What does \"compromising human dignity\" mean to us, since not all of us can claim that we have always been human? Or that we are only that.1 Haraway, Donna Jeanne, author. Title: *Staying with the Trouble : Making Kin in the Chthulucene* / Donna J. Haraway. Description: Durham : Duke University Press, 2016. | Series: Experimental futures: technological lives, scientific arts, anthropological voices.2 Rosi Braidotti, *The Posthuman*, Polity Press, Oxford, United Kingdom, 17 Jun 2013\n",
      "**Related artwork 2**: name: **Compression Cradle**, authors: **Lucy McRae**, year: **2020**, description: Compression Cradle looks like a remnant from a world we have not yet seen but might soon inhabit. One where mechanical touch may be an antidote for todays forever connectedness, a behavior that has triggered collective anxiety. As people increasingly choose to live independently, handling devices more than human flesh, we create opportunities for technology to vie for our affections. De-evolving physical touch will change our species as we know it. We are inducing a crisis of touch--how will art, design, and business cater to societys evolving physical and emotional needs?  Compression Cradle is a machine that affectionately squeezes the body with a sequence of aerated volumes that hold you tight, in an attempt to prepare the self for a future that lacks human touch. Through a choreography of touch sensations, this mechanism assists in altering the expression of oxytocin--the hormone released in the brain, responsible for building trust and pair bonding. This immersive artwork is a playful and mechanical antidote to a condition that will become more extreme in the future.  Based on audience feedback we have uncovered critical insight into the relationship mechanical touch has with autism. During an exhibition of the work, parents of an autistic child noticed considerable difference and calm after spending time in the Compression Cradle. How could this artwork be developed into a consumer product to reduce the effects of autism?  The Compression Cradle is an ongoing research project investigating the human losses and gains of touch. The projects aim is to gather data at future exhibitions to form the premise for a new work and symposium that discuss research and new points of view on the future of touch, empathy, and the human condition.  With a set of deeply ingrained beliefs and ethics, all of Lucy McRaes projects, including the Compression Cradle, are committed to a single objective: the preservation of humanity.\n",
      "\n",
      "Briefly explain all these artworks and similarities and differences between artworks. Your text must look human-like, not a rigorous review. Give your answer in Russian, but do not translate the names of artists and artworks. Do not divide description and reasoning parts. Use Markdown to structure your answer. Make the names of artists and artworks bold.\n",
      "Images:  ['https://archive.aec.at/media/assets/7f32b4200424cb9902e8c4ff32cdeeec.jpg', 'https://archive.aec.at/media/assets/49a0269afc2df5e446c3bc9445358780.jpg', 'https://archive.aec.at/media/assets/983287f5f78872621d42efbc4b274a2c.png']\n",
      "ChatCompletion(id='chatcmpl-9CppaQ5m5A6zar2Aw2gi9mRW4WwkQ', choices=[Choice(finish_reason='stop', index=0, logprobs=None, message=ChatCompletionMessage(content='## Анализ произведений искусства\\n\\nВ центре нашего внимания находится произведение **Transfigurations** от **Agi Haines**. Экспозиция включает в себя пять аниматронных скульптур младенцев, каждая из которых демонстрирует различные хирургические вмешательства, направленные на улучшение будущих функций тела. Эти процедуры от тепловой передачи за счёт увеличения площади головы до создания нового органа для самостоятельного медицинского обслуживания. Зрителю предлагается не просто наблюдать, но и взаимодействовать, что поднимает этические вопросы о будущем модификации человеческого тела.\\n\\n**K-9_topology** от **Maja Smrekar** исследует совместное развитие человека и собак, рассматривая биополитические аспекты и перекрестные видовые связи. Проект особенно фокусируется на эмоциональных связях и символическом смысле, что включает создание гибридных клеток между человеком и собакой. Смрекар занимается вопросами репродуктивной свободы и биотехнологическим скрещиванием, что ставит вопросы о границах человечности и нашего взаимодействия с другими видами.\\n\\n**Compression Cradle** от **Lucy McRae** представляет собой устройство, символизирующее механическое прикосновение как возможное решение современных проблем отдаления и анонимности в обществе. Устройство использует воздушные камеры для имитации объятий и таким образом исследует, как изменения в физическом контакте могут влиять на эмоциональное состояние человека.\\n\\n### Сходства\\n\\nВсе три произведения эксплорируют пересечение технологий и биологии, дополняя человеческое тело или взаимодействие новыми техническими решениями. Они задают вопросы о будущем человечества и ролях, которые технологии будут играть в нашей повседневной жизни. В каждом случае зрители сталкиваются с этическими и философскими дилеммами, происходящими из-за глубоких вмешательств в естественный ход развития вида или отношений.\\n\\n### Различия\\n\\nХотя **Transfigurations** и **K-9_topology** сосредоточены на биологических модификациях для достижения нового уровня взаимодействий и возможностей, **Compression Cradle** более сфокусирован на эмоциональных и социальных последствиях технологической изоляции. **Transfigurations** непосредственно вмешивается в физиологию человека, в то время как **K-9_topology** размышляет о метафорических и реальных гибридациях между видами. **Compression Cradle**, в свою очередь, ищет ответы на отсутствие человеческого прикосновения через технологические альтернативы.\\n\\n### Визуальное сопоставление\\n\\nПервое изображение показывает нежного младенца, что напоминает одну из скульптур **Transfigurations**, где искусственные улучшения скрыты за внешним видом обычного ребенка. Второе изображение похоже на подготовленную сцену или лабораторию, что может быть аналогией со сложными исследованиями и экспериментами, подобными тем, что проводит **Maja Smrekar**. Третье изображение демонстрирует механическую альтернативу человеческому прикосновению, резонируя с темой, изучаемой в **Compression Cradle** от **Lucy McRae**.\\n\\nЭти произведения искусства открывают диалог о влиянии нашего быстро развивающегося мира на условия человеческого существования и наше место в биологическом и технологическом континууме.', role='assistant', function_call=None, tool_calls=None))], created=1712846202, model='gpt-4-turbo-2024-04-09', object='chat.completion', system_fingerprint='fp_d1bac968b4', usage=CompletionUsage(completion_tokens=1384, prompt_tokens=2053, total_tokens=3437))\n"
     ]
    }
   ],
   "execution_count": 3
  },
  {
   "metadata": {
    "ExecuteTime": {
     "end_time": "2024-04-11T14:39:45.681708Z",
     "start_time": "2024-04-11T14:39:45.679086Z"
    }
   },
   "cell_type": "code",
   "source": "analysis_result.choices[0].message.content",
   "id": "6d160cd6f7193fd0",
   "outputs": [
    {
     "data": {
      "text/plain": [
       "'## Анализ произведений искусства\\n\\nВ центре нашего внимания находится произведение **Transfigurations** от **Agi Haines**. Экспозиция включает в себя пять аниматронных скульптур младенцев, каждая из которых демонстрирует различные хирургические вмешательства, направленные на улучшение будущих функций тела. Эти процедуры от тепловой передачи за счёт увеличения площади головы до создания нового органа для самостоятельного медицинского обслуживания. Зрителю предлагается не просто наблюдать, но и взаимодействовать, что поднимает этические вопросы о будущем модификации человеческого тела.\\n\\n**K-9_topology** от **Maja Smrekar** исследует совместное развитие человека и собак, рассматривая биополитические аспекты и перекрестные видовые связи. Проект особенно фокусируется на эмоциональных связях и символическом смысле, что включает создание гибридных клеток между человеком и собакой. Смрекар занимается вопросами репродуктивной свободы и биотехнологическим скрещиванием, что ставит вопросы о границах человечности и нашего взаимодействия с другими видами.\\n\\n**Compression Cradle** от **Lucy McRae** представляет собой устройство, символизирующее механическое прикосновение как возможное решение современных проблем отдаления и анонимности в обществе. Устройство использует воздушные камеры для имитации объятий и таким образом исследует, как изменения в физическом контакте могут влиять на эмоциональное состояние человека.\\n\\n### Сходства\\n\\nВсе три произведения эксплорируют пересечение технологий и биологии, дополняя человеческое тело или взаимодействие новыми техническими решениями. Они задают вопросы о будущем человечества и ролях, которые технологии будут играть в нашей повседневной жизни. В каждом случае зрители сталкиваются с этическими и философскими дилеммами, происходящими из-за глубоких вмешательств в естественный ход развития вида или отношений.\\n\\n### Различия\\n\\nХотя **Transfigurations** и **K-9_topology** сосредоточены на биологических модификациях для достижения нового уровня взаимодействий и возможностей, **Compression Cradle** более сфокусирован на эмоциональных и социальных последствиях технологической изоляции. **Transfigurations** непосредственно вмешивается в физиологию человека, в то время как **K-9_topology** размышляет о метафорических и реальных гибридациях между видами. **Compression Cradle**, в свою очередь, ищет ответы на отсутствие человеческого прикосновения через технологические альтернативы.\\n\\n### Визуальное сопоставление\\n\\nПервое изображение показывает нежного младенца, что напоминает одну из скульптур **Transfigurations**, где искусственные улучшения скрыты за внешним видом обычного ребенка. Второе изображение похоже на подготовленную сцену или лабораторию, что может быть аналогией со сложными исследованиями и экспериментами, подобными тем, что проводит **Maja Smrekar**. Третье изображение демонстрирует механическую альтернативу человеческому прикосновению, резонируя с темой, изучаемой в **Compression Cradle** от **Lucy McRae**.\\n\\nЭти произведения искусства открывают диалог о влиянии нашего быстро развивающегося мира на условия человеческого существования и наше место в биологическом и технологическом континууме.'"
      ]
     },
     "execution_count": 9,
     "metadata": {},
     "output_type": "execute_result"
    }
   ],
   "execution_count": 9
  },
  {
   "metadata": {
    "ExecuteTime": {
     "end_time": "2024-04-11T14:37:30.700598Z",
     "start_time": "2024-04-11T14:37:30.698051Z"
    }
   },
   "cell_type": "code",
   "source": [
    "# from core.document_retrieval import VectorDB, Retriever\n",
    "\n",
    "# source = 'ars_electronica_prizewinners_ru.json'\n",
    "# path = 'not_posted.txt'\n",
    "# \n",
    "# vector_db = VectorDB(source)\n",
    "# vector_db.load()\n",
    "# vector_db.create_db()\n",
    "# retriever = Retriever(vector_db)\n",
    "# \n",
    "# with open(source, 'r', encoding='utf-8') as f:\n",
    "#     data = json.load(f)\n",
    "# \n",
    "# with open(path, 'r') as f:\n",
    "#     not_posted = f.readline().split(',')\n",
    "# \n",
    "# key = random.choice(not_posted)\n",
    "# print(f'Key is {key}')\n",
    "# artwork = data[key]\n",
    "# \n",
    "# print(\"Source:\\n\")\n",
    "# print(artwork[\"description_ru\"], \"\\n\")\n",
    "# \n",
    "# res = retriever.get_top_k(artwork['description_ru'], key, 2)\n",
    "# \n",
    "# print(\"Recs:\\n\")\n",
    "# for example in res:\n",
    "#     print(example.page_content, \"\\n\")\n",
    "#     \n",
    "#     \n",
    "# def delete_apostrophe(text):\n",
    "#     return text.replace(\"'\", \"\")\n",
    "# \n",
    "# art_name_main = artwork['name']\n",
    "# authors_main = artwork['authors']\n",
    "# year_main = artwork['year']\n",
    "# description_main = delete_apostrophe(artwork['description'])\n",
    "# image_main = artwork['img_list'][0]\n",
    "# \n",
    "# art_name_0 = res[0].metadata['name']\n",
    "# authors_0 = res[0].metadata['authors']\n",
    "# year_0 = res[0].metadata['year']\n",
    "# description_0 = delete_apostrophe(res[0].metadata['description'])\n",
    "# image_0 = res[0].metadata['img_list'][0]\n",
    "# \n",
    "# art_name_1 = res[1].metadata['name']\n",
    "# authors_1 = res[1].metadata['authors']\n",
    "# year_1 = res[1].metadata['year']\n",
    "# description_1 = delete_apostrophe(res[1].metadata['description'])\n",
    "# image_1 = res[1].metadata['img_list'][0]"
   ],
   "id": "b5161ea464d84ab0",
   "outputs": [],
   "execution_count": 4
  },
  {
   "metadata": {
    "ExecuteTime": {
     "end_time": "2024-04-11T14:37:30.704313Z",
     "start_time": "2024-04-11T14:37:30.701376Z"
    }
   },
   "cell_type": "code",
   "source": [
    "# prompt = f'Imagine you are an experienced art critic' \\\n",
    "#          f'You are presented with descriptions of three artworks.' \\\n",
    "#          f'The first one is a main artwork and two related artworks are similar to the first one.' \\\n",
    "#          f'On the first step you should provide a separate review of all the artworks.' \\\n",
    "#          f'Artworks also have related images, analyze their content and use this analysis in your reviews.' \\\n",
    "#          f'On the second step summarize all of these artworks in terms of similarities and differences.' \\\n",
    "#          f'Main artwork: name: {art_name_main}, authors: {authors_main}, year: {year_main}, description: {description_main}' \\\n",
    "#          f'Related artwork 1: name: {art_name_0}, authors: {authors_0}, year: {year_0}, description: {description_0}' \\\n",
    "#          f'Related artwork 2: name: {art_name_1}, authors: {authors_1}, year: {year_1}, description: {description_1}' \\\n",
    "#          f'Give your answer in Russian, but do not translate the names of artists and artworks.' \\\n",
    "#          f'Do not divide description and reasoning parts, combine them into the one paragraph' \\\n",
    "#          f'Use Markdown to structure your answer. Make the names of artists and artworks bold.' \\\n",
    "#          f'Give your answer step-by-step for each artwork.'\n",
    "# \n",
    "# response = client.chat.completions.create(\n",
    "#     model=\"gpt-4-turbo\",\n",
    "#     messages=[\n",
    "#         {\n",
    "#             \"role\": \"user\",\n",
    "#             \"content\": [\n",
    "#                 {\n",
    "#                     \"type\": \"text\",\n",
    "#                     \"text\": prompt,\n",
    "#                 },\n",
    "#                 {\n",
    "#                     \"type\": \"image_url\",\n",
    "#                     \"image_url\":{\n",
    "#                        \"url\": image_main,\n",
    "#                        \"detail\": \"low\"\n",
    "#                     },\n",
    "#                 },\n",
    "#                                 {\n",
    "#                     \"type\": \"image_url\",\n",
    "#                     \"image_url\":{\n",
    "#                        \"url\": image_0,\n",
    "#                        \"detail\": \"low\"\n",
    "#                     },\n",
    "#                 },\n",
    "#                                 {\n",
    "#                     \"type\": \"image_url\",\n",
    "#                     \"image_url\":{\n",
    "#                        \"url\": image_1,\n",
    "#                        \"detail\": \"low\"\n",
    "#                     },\n",
    "#                 },\n",
    "#             ],\n",
    "#         }\n",
    "#     ],\n",
    "#     max_tokens=1000,\n",
    "# )\n",
    "# \n",
    "# print(response.choices[0])"
   ],
   "id": "a9f9a7b6265ce88f",
   "outputs": [],
   "execution_count": 5
  },
  {
   "metadata": {
    "ExecuteTime": {
     "end_time": "2024-04-11T14:37:30.706476Z",
     "start_time": "2024-04-11T14:37:30.705097Z"
    }
   },
   "cell_type": "code",
   "source": "",
   "id": "fc2dceb590659bf",
   "outputs": [],
   "execution_count": 5
  }
 ],
 "metadata": {
  "kernelspec": {
   "display_name": "Python 3",
   "language": "python",
   "name": "python3"
  },
  "language_info": {
   "codemirror_mode": {
    "name": "ipython",
    "version": 2
   },
   "file_extension": ".py",
   "mimetype": "text/x-python",
   "name": "python",
   "nbconvert_exporter": "python",
   "pygments_lexer": "ipython2",
   "version": "2.7.6"
  }
 },
 "nbformat": 4,
 "nbformat_minor": 5
}
