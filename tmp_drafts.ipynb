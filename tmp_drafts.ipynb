{
 "cells": [
  {
   "cell_type": "code",
   "id": "initial_id",
   "metadata": {
    "collapsed": true,
    "ExecuteTime": {
     "end_time": "2024-04-10T17:25:31.826229Z",
     "start_time": "2024-04-10T17:25:31.471241Z"
    }
   },
   "source": [
    "import random\n",
    "import json\n",
    "import os\n",
    "from openai import OpenAI\n",
    "from dotenv import load_dotenv\n",
    "\n",
    "load_dotenv()\n",
    "\n",
    "OPENAI_API_KEY = os.getenv('OPENAI_API_KEY')\n",
    "client = OpenAI(api_key=OPENAI_API_KEY)"
   ],
   "outputs": [],
   "execution_count": 1
  },
  {
   "metadata": {
    "ExecuteTime": {
     "end_time": "2024-04-10T17:25:39.191235Z",
     "start_time": "2024-04-10T17:25:39.120680Z"
    }
   },
   "cell_type": "code",
   "source": [
    "from core.artwork_analysis import Artwork, ArtworkRetriever, ArtworkAnalyser\n",
    "\n",
    "OPENAI_API_KEY = os.getenv('OPENAI_API_KEY')\n",
    "source = 'ars_electronica_prizewinners_ru.json'\n",
    "with open(source, 'r', encoding='utf-8') as f:\n",
    "    data = json.load(f)\n",
    "path = 'not_posted.txt'\n",
    "with open(path, 'r') as f:\n",
    "    not_posted = f.readline().split(',')\n",
    "\n",
    "key = random.choice(not_posted)\n",
    "\n",
    "main_artwork_data = data[key]\n",
    "\n",
    "main_artwork = Artwork(main_artwork_data)\n",
    "\n",
    "main_artwork"
   ],
   "id": "a2c444d9bfacd015",
   "outputs": [
    {
     "data": {
      "text/plain": [
       "<core.artwork_analysis.Artwork at 0x740d102b8750>"
      ]
     },
     "execution_count": 2,
     "metadata": {},
     "output_type": "execute_result"
    }
   ],
   "execution_count": 2
  },
  {
   "metadata": {
    "ExecuteTime": {
     "end_time": "2024-04-10T17:26:15.230003Z",
     "start_time": "2024-04-10T17:25:39.899166Z"
    }
   },
   "cell_type": "code",
   "source": [
    "artwork_retriever = ArtworkRetriever(source)\n",
    "related_artworks = artwork_retriever.get_related_artworks(main_artwork)\n",
    "\n",
    "analysis = ArtworkAnalyser(OPENAI_API_KEY)\n",
    "analysis_result = analysis.analyze_artworks(main_artwork, related_artworks)\n",
    "\n",
    "print(analysis_result)"
   ],
   "id": "ff9a465dc816a660",
   "outputs": [
    {
     "name": "stdout",
     "output_type": "stream",
     "text": [
      "['https://archive.aec.at/media/assets/a2bccdccb75d57dd9c55107181b2756e.png', 'https://archive.aec.at/media/assets/a2bccdccb75d57dd9c55107181b2756e.png', 'https://archive.aec.at/media/assets/65d4d19da29991525bee31a46234c2f3.jpg']\n",
      "[Choice(finish_reason='length', index=0, logprobs=None, message=ChatCompletionMessage(content=\"### Рецензия на главное произведение:\\n\\n**[re]:generativ**, Максим Корбей-Перрон, 2021 год.\\n\\n[re]:generativ ставит перед зрителями вызов погружения в аудиовизуальный мир, где археология медиа сочетается с современными экспериментальными техниками. Произведение Максима Корбей-Перрона представляет собой уникальное сочетание аналоговой видеосинтезмы и абстрактных, сюрреалистически обработанных пейзажей, усиленное стареющей технологией анаглифной стереоскопии. Созданное в сотрудничестве с Ensemble d'Oscillateurs, произведение использует многообразие экспериментальных подходов, включая алгоритмы генеративного звука и живую обработку звука. Визуальное изображение характеризуется модуляцией цвета и стереоскопическими текстурами, создавая впечатление абстрактных, но при этом четко проработанных структур. Рассматриваемое изображение демонстрирует напряженные линии цветовой модуляции и изогнутые формы, что усиливает ощущение сюрреализма и глубины.\\n\\n### Рецензия на первое связанное произведение:\\n\\n(См. Описание главного произведения, так как произведения идентичны.)\\n\\n### Рецензия на второе связанное произведение:\\n\\n**Metachaos**, Алессандро Бавари, 2011 год.\\n\\nMetachaos Алессандро Бавари занимается изучением наиболее трагических аспектов человеческой природы через визуально насыщенную и мультимедийную форму. Темы войны, безумия, социальных изменений и ненависти изложены в метафорических образах, которые, хотя и абстрактны в концепции, на практике оказываются ощутимыми и тангибельными. Проект включает короткометражный фильм, фотосессию и живопись, использующие смешанные техники. Третье изображение показывает мутантскую гордь, атакующую крепость, что символизирует повторное погружение в первозданный бульон жизни. Визуальный стиль проекта интенсивно драматичен, с использованием кислых и монохромных тонов, создающих ощущение угнетения.\\n\\n### Обобщение сходств и различий:\\n\\nСходства между **[re]:generativ** и **Metachaos** заключаются в их стремлении исследовать и выразить абстрактные концепции через сложные аудиовизуальные средства. Оба произведения используют экспериментальные звуковые и визуальные техники для создания новаторских и мощных арт-объектов.\\n\\nОсновное различие между ними — тематическое направление и эмоциона\", role='assistant', function_call=None, tool_calls=None))]\n"
     ]
    }
   ],
   "execution_count": 3
  },
  {
   "metadata": {},
   "cell_type": "code",
   "outputs": [],
   "execution_count": null,
   "source": [
    "# from core.document_retrieval import VectorDB, Retriever\n",
    "\n",
    "# source = 'ars_electronica_prizewinners_ru.json'\n",
    "# path = 'not_posted.txt'\n",
    "# \n",
    "# vector_db = VectorDB(source)\n",
    "# vector_db.load()\n",
    "# vector_db.create_db()\n",
    "# retriever = Retriever(vector_db)\n",
    "# \n",
    "# with open(source, 'r', encoding='utf-8') as f:\n",
    "#     data = json.load(f)\n",
    "# \n",
    "# with open(path, 'r') as f:\n",
    "#     not_posted = f.readline().split(',')\n",
    "# \n",
    "# key = random.choice(not_posted)\n",
    "# print(f'Key is {key}')\n",
    "# artwork = data[key]\n",
    "# \n",
    "# print(\"Source:\\n\")\n",
    "# print(artwork[\"description_ru\"], \"\\n\")\n",
    "# \n",
    "# res = retriever.get_top_k(artwork['description_ru'], key, 2)\n",
    "# \n",
    "# print(\"Recs:\\n\")\n",
    "# for example in res:\n",
    "#     print(example.page_content, \"\\n\")\n",
    "#     \n",
    "#     \n",
    "# def delete_apostrophe(text):\n",
    "#     return text.replace(\"'\", \"\")\n",
    "# \n",
    "# art_name_main = artwork['name']\n",
    "# authors_main = artwork['authors']\n",
    "# year_main = artwork['year']\n",
    "# description_main = delete_apostrophe(artwork['description'])\n",
    "# image_main = artwork['img_list'][0]\n",
    "# \n",
    "# art_name_0 = res[0].metadata['name']\n",
    "# authors_0 = res[0].metadata['authors']\n",
    "# year_0 = res[0].metadata['year']\n",
    "# description_0 = delete_apostrophe(res[0].metadata['description'])\n",
    "# image_0 = res[0].metadata['img_list'][0]\n",
    "# \n",
    "# art_name_1 = res[1].metadata['name']\n",
    "# authors_1 = res[1].metadata['authors']\n",
    "# year_1 = res[1].metadata['year']\n",
    "# description_1 = delete_apostrophe(res[1].metadata['description'])\n",
    "# image_1 = res[1].metadata['img_list'][0]"
   ],
   "id": "b5161ea464d84ab0"
  },
  {
   "metadata": {},
   "cell_type": "code",
   "outputs": [],
   "execution_count": null,
   "source": [
    "# prompt = f'Imagine you are an experienced art critic' \\\n",
    "#          f'You are presented with descriptions of three artworks.' \\\n",
    "#          f'The first one is a main artwork and two related artworks are similar to the first one.' \\\n",
    "#          f'On the first step you should provide a separate review of all the artworks.' \\\n",
    "#          f'Artworks also have related images, analyze their content and use this analysis in your reviews.' \\\n",
    "#          f'On the second step summarize all of these artworks in terms of similarities and differences.' \\\n",
    "#          f'Main artwork: name: {art_name_main}, authors: {authors_main}, year: {year_main}, description: {description_main}' \\\n",
    "#          f'Related artwork 1: name: {art_name_0}, authors: {authors_0}, year: {year_0}, description: {description_0}' \\\n",
    "#          f'Related artwork 2: name: {art_name_1}, authors: {authors_1}, year: {year_1}, description: {description_1}' \\\n",
    "#          f'Give your answer in Russian, but do not translate the names of artists and artworks.' \\\n",
    "#          f'Do not divide description and reasoning parts, combine them into the one paragraph' \\\n",
    "#          f'Use Markdown to structure your answer. Make the names of artists and artworks bold.' \\\n",
    "#          f'Give your answer step-by-step for each artwork.'\n",
    "# \n",
    "# response = client.chat.completions.create(\n",
    "#     model=\"gpt-4-turbo\",\n",
    "#     messages=[\n",
    "#         {\n",
    "#             \"role\": \"user\",\n",
    "#             \"content\": [\n",
    "#                 {\n",
    "#                     \"type\": \"text\",\n",
    "#                     \"text\": prompt,\n",
    "#                 },\n",
    "#                 {\n",
    "#                     \"type\": \"image_url\",\n",
    "#                     \"image_url\":{\n",
    "#                        \"url\": image_main,\n",
    "#                        \"detail\": \"low\"\n",
    "#                     },\n",
    "#                 },\n",
    "#                                 {\n",
    "#                     \"type\": \"image_url\",\n",
    "#                     \"image_url\":{\n",
    "#                        \"url\": image_0,\n",
    "#                        \"detail\": \"low\"\n",
    "#                     },\n",
    "#                 },\n",
    "#                                 {\n",
    "#                     \"type\": \"image_url\",\n",
    "#                     \"image_url\":{\n",
    "#                        \"url\": image_1,\n",
    "#                        \"detail\": \"low\"\n",
    "#                     },\n",
    "#                 },\n",
    "#             ],\n",
    "#         }\n",
    "#     ],\n",
    "#     max_tokens=1000,\n",
    "# )\n",
    "# \n",
    "# print(response.choices[0])"
   ],
   "id": "a9f9a7b6265ce88f"
  },
  {
   "metadata": {},
   "cell_type": "code",
   "source": "",
   "id": "fc2dceb590659bf",
   "outputs": [],
   "execution_count": null
  }
 ],
 "metadata": {
  "kernelspec": {
   "display_name": "Python 3",
   "language": "python",
   "name": "python3"
  },
  "language_info": {
   "codemirror_mode": {
    "name": "ipython",
    "version": 2
   },
   "file_extension": ".py",
   "mimetype": "text/x-python",
   "name": "python",
   "nbconvert_exporter": "python",
   "pygments_lexer": "ipython2",
   "version": "2.7.6"
  }
 },
 "nbformat": 4,
 "nbformat_minor": 5
}
