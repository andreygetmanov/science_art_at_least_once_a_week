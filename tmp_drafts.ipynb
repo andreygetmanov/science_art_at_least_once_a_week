{
 "cells": [
  {
   "cell_type": "code",
   "id": "initial_id",
   "metadata": {
    "collapsed": true,
    "ExecuteTime": {
     "end_time": "2024-04-11T22:05:56.905735Z",
     "start_time": "2024-04-11T22:05:56.726393Z"
    }
   },
   "source": [
    "import random\n",
    "import json\n",
    "import os\n",
    "from openai import OpenAI\n",
    "from dotenv import load_dotenv\n",
    "import gc\n",
    "\n",
    "\n",
    "load_dotenv()\n",
    "\n",
    "OPENAI_API_KEY = os.getenv('OPENAI_API_KEY')\n",
    "client = OpenAI(api_key=OPENAI_API_KEY)"
   ],
   "outputs": [],
   "execution_count": 1
  },
  {
   "metadata": {
    "ExecuteTime": {
     "end_time": "2024-04-11T22:06:08.322001Z",
     "start_time": "2024-04-11T22:05:59.742756Z"
    }
   },
   "cell_type": "code",
   "source": [
    "from core.artwork_analysis import Artwork, ArtworkRetriever, ArtworkAnalyser, HFArtworkAnalyser\n",
    "\n",
    "OPENAI_API_KEY = os.getenv('OPENAI_API_KEY')\n",
    "source = 'ars_electronica_prizewinners_ru.json'\n",
    "with open(source, 'r', encoding='utf-8') as f:\n",
    "    data = json.load(f)\n",
    "path = 'not_posted.txt'\n",
    "with open(path, 'r') as f:\n",
    "    not_posted = f.readline().split(',')\n",
    "\n",
    "key = random.choice(not_posted)\n",
    "\n",
    "main_artwork_data = data[key]\n",
    "\n",
    "main_artwork = Artwork(main_artwork_data)\n",
    "\n",
    "artwork_retriever = ArtworkRetriever(source)\n",
    "related_artworks = artwork_retriever.get_related_artworks(main_artwork)"
   ],
   "id": "a2c444d9bfacd015",
   "outputs": [],
   "execution_count": 2
  },
  {
   "metadata": {
    "ExecuteTime": {
     "end_time": "2024-04-11T14:37:30.696932Z",
     "start_time": "2024-04-11T14:36:26.092479Z"
    }
   },
   "cell_type": "code",
   "source": [
    "# ChatGPT analyzer\n",
    "analysis = ArtworkAnalyser(OPENAI_API_KEY)\n",
    "analysis_result = analysis.analyze_artworks(main_artwork, related_artworks)\n",
    "\n",
    "print(analysis_result)"
   ],
   "id": "ff9a465dc816a660",
   "outputs": [
    {
     "name": "stdout",
     "output_type": "stream",
     "text": [
      "Prompt:  Imagine you are an experienced art critic. You are presented with descriptions of three artworks. The first one is the main artwork and two related artworks are similar to the first one. Artworks also have related images, analyze their content and use this analysis in your reviews.\n",
      "\n",
      "**Main artwork**: name: **Transfigurations**, authors: **Agi Haines**, year: **2014**, description: The human body consists of practicable elements that can be easily manipulated and engineered. Through surgical procedures our bodies can be stretched, shifted and sewn, yet still be functional. What then would stop us searching for a higher level of functionality than we have now? Especially if it may have the potential to benefit the younger, more vulnerable and more malleable generation.The exhibit consists of five animatronic sculptures of babies. Each baby shows a different design for a potential body enhancement that has been surgically implemented to benefit the child. Each modification is put in place to solve a potential future problem for the baby, ranging from medical to environmental to social mobility issues.The realistic, breathing, sleeping babies have illustrated descriptions of the surgical procedure and are designed to be interactive. Holding the babies gives the audience a sense of the potential reality behind the future of modification and heightens the ethical conundrum behind the question: “In a future where forced evolution seems to be the only option for a sufficiently rapid advance, what would you do to benefit your child’s life?”Thermal epidermiplasty: a procedure designed to increase surface area of the head to allow for heat dissipation in the wake of global warming.Podiaectomy: the removal of a toe to encourage the contraction of hookworm, an allergy-reducing parasite which may lessen asthma as pollution is worsening.Extension osteogenesis: a face-shaping procedure creating a more aerodynamic facial structure, which increases the child’s job prospects in sport.Epidermal myostomy: the introduction of a new orifice in a low fatty area, which may help the child medicate itself over longer periods of time.Bibuccalplasty: the extension of the cheeks, encouraging higher absorption of caffeine so the child can work for longer hours.\n",
      "**Related artwork 1**: name: **K-9_topology**, authors: **Maja Smrekar**, year: **2017**, description: What constitutes the human being in a biopolitical dimension of a post-panoptic world?The need to reinvent ourselves with our nonhuman others is investigated in four parts of the *K-9_topology* project, which were carried out between 2014 and 2017. The wolf–human–dog parallel evolution research project, *ECCE CANIS*, focuses on the processes of metabolic pathways that trigger an emotional response that connects humans and dogs and allows them to successfully coexist. The serotonin hormone of Maja Smrekar and Byron, her dog companion, was transformed into an odor, symbolizing the mutual taming of the human and the canine species. The residency at JACANA Wildlife Studios in France focused on the ethology of the wolf. The synergy of interspecies collaboration resulted in a performance called *I HUNT NATURE, AND CULTURE HUNTS ME*. Its symbolical significance was articulated within the context of Smrekar´s emotional childhood memories juxtaposed with the works of Joseph Beuys and Oleg Kulik.The project *HYBRID FAMILY* was related to the theory of becoming-animal by rethinking the social and ideological instrumentalization of a woman´s body and breastfeeding. Overcoming the classical distinction between private life and political existence, Smrekar felt she needed to perform with her own body and the bodies of her dogs to re-gain their position of power by staging a public performance with a puppy Ada. Her own economy of emotions became a molecular process: during a three-month period of seclusion with her dogs, she stimulated her pituitary glands with systematic breastpumping to release the hormone prolactin and followed a diet rich in galactogogues to promote lactation. A side effect was the increase in oxytocin hormone levels, which led to an increase in empathy and her personal resistance to the cynicism of the zeitgeist. By being pregnant with a meaning, and thus becoming (m)Other, Smrekar was further drawn to explore her “decolonial reproductive freedom in a dangerously troubled multispecies world“ (see Haraway, 2016).1 The myth of humanity, based on its uniqueness, has always excluded some that don’t correspond to the ideal, for example animals with regard to parenthood and gender.Addressing a new social ecology in the *ARTE_mis* project, Smrekar fused her molecular self with a doggenetically the closest ancestor to the endangered wild wolf. In a biotechnological laboratory, the cell materials of the two carnivorous species were joined in an equal cohabitation relationship. Her denucleated reproductive cell, harvested in an egg retrieval procedure, was inserted with Ada´s fat cell. Since the concept of IVF treatment paraphrases the institution of family as dispositive of all other forms of oppression, Smrekar juxtaposes *ARTE_mis* as a reference “to think beyond humanist limitations in order to embrace the risks that becoming-other-than human brings forth“. (See Braidotti, 2013)2 Homer refers to Artemis, a Greek goddess of the hunt, the wilderness, and childbirth, who is usually depicted with dogs as her companions, as Potnia Theron, a pre-Greek \"Mistress of Animals\". The hybrid cell is a potential dystopic life scenario that might have more chances of survival on a planet in capitalist ruins.In the *K-9_topology* opus, Smrekar offers an opportunity to rethink the anthropological machine of representation that aims to adjust our sight and thus our perception: What does \"compromising human dignity\" mean to us, since not all of us can claim that we have always been human? Or that we are only that.1 Haraway, Donna Jeanne, author. Title: *Staying with the Trouble : Making Kin in the Chthulucene* / Donna J. Haraway. Description: Durham : Duke University Press, 2016. | Series: Experimental futures: technological lives, scientific arts, anthropological voices.2 Rosi Braidotti, *The Posthuman*, Polity Press, Oxford, United Kingdom, 17 Jun 2013\n",
      "**Related artwork 2**: name: **Compression Cradle**, authors: **Lucy McRae**, year: **2020**, description: Compression Cradle looks like a remnant from a world we have not yet seen but might soon inhabit. One where mechanical touch may be an antidote for todays forever connectedness, a behavior that has triggered collective anxiety. As people increasingly choose to live independently, handling devices more than human flesh, we create opportunities for technology to vie for our affections. De-evolving physical touch will change our species as we know it. We are inducing a crisis of touch--how will art, design, and business cater to societys evolving physical and emotional needs?  Compression Cradle is a machine that affectionately squeezes the body with a sequence of aerated volumes that hold you tight, in an attempt to prepare the self for a future that lacks human touch. Through a choreography of touch sensations, this mechanism assists in altering the expression of oxytocin--the hormone released in the brain, responsible for building trust and pair bonding. This immersive artwork is a playful and mechanical antidote to a condition that will become more extreme in the future.  Based on audience feedback we have uncovered critical insight into the relationship mechanical touch has with autism. During an exhibition of the work, parents of an autistic child noticed considerable difference and calm after spending time in the Compression Cradle. How could this artwork be developed into a consumer product to reduce the effects of autism?  The Compression Cradle is an ongoing research project investigating the human losses and gains of touch. The projects aim is to gather data at future exhibitions to form the premise for a new work and symposium that discuss research and new points of view on the future of touch, empathy, and the human condition.  With a set of deeply ingrained beliefs and ethics, all of Lucy McRaes projects, including the Compression Cradle, are committed to a single objective: the preservation of humanity.\n",
      "\n",
      "Briefly explain all these artworks and similarities and differences between artworks. Your text must look human-like, not a rigorous review. Give your answer in Russian, but do not translate the names of artists and artworks. Do not divide description and reasoning parts. Use Markdown to structure your answer. Make the names of artists and artworks bold.\n",
      "Images:  ['https://archive.aec.at/media/assets/7f32b4200424cb9902e8c4ff32cdeeec.jpg', 'https://archive.aec.at/media/assets/49a0269afc2df5e446c3bc9445358780.jpg', 'https://archive.aec.at/media/assets/983287f5f78872621d42efbc4b274a2c.png']\n",
      "ChatCompletion(id='chatcmpl-9CppaQ5m5A6zar2Aw2gi9mRW4WwkQ', choices=[Choice(finish_reason='stop', index=0, logprobs=None, message=ChatCompletionMessage(content='## Анализ произведений искусства\\n\\nВ центре нашего внимания находится произведение **Transfigurations** от **Agi Haines**. Экспозиция включает в себя пять аниматронных скульптур младенцев, каждая из которых демонстрирует различные хирургические вмешательства, направленные на улучшение будущих функций тела. Эти процедуры от тепловой передачи за счёт увеличения площади головы до создания нового органа для самостоятельного медицинского обслуживания. Зрителю предлагается не просто наблюдать, но и взаимодействовать, что поднимает этические вопросы о будущем модификации человеческого тела.\\n\\n**K-9_topology** от **Maja Smrekar** исследует совместное развитие человека и собак, рассматривая биополитические аспекты и перекрестные видовые связи. Проект особенно фокусируется на эмоциональных связях и символическом смысле, что включает создание гибридных клеток между человеком и собакой. Смрекар занимается вопросами репродуктивной свободы и биотехнологическим скрещиванием, что ставит вопросы о границах человечности и нашего взаимодействия с другими видами.\\n\\n**Compression Cradle** от **Lucy McRae** представляет собой устройство, символизирующее механическое прикосновение как возможное решение современных проблем отдаления и анонимности в обществе. Устройство использует воздушные камеры для имитации объятий и таким образом исследует, как изменения в физическом контакте могут влиять на эмоциональное состояние человека.\\n\\n### Сходства\\n\\nВсе три произведения эксплорируют пересечение технологий и биологии, дополняя человеческое тело или взаимодействие новыми техническими решениями. Они задают вопросы о будущем человечества и ролях, которые технологии будут играть в нашей повседневной жизни. В каждом случае зрители сталкиваются с этическими и философскими дилеммами, происходящими из-за глубоких вмешательств в естественный ход развития вида или отношений.\\n\\n### Различия\\n\\nХотя **Transfigurations** и **K-9_topology** сосредоточены на биологических модификациях для достижения нового уровня взаимодействий и возможностей, **Compression Cradle** более сфокусирован на эмоциональных и социальных последствиях технологической изоляции. **Transfigurations** непосредственно вмешивается в физиологию человека, в то время как **K-9_topology** размышляет о метафорических и реальных гибридациях между видами. **Compression Cradle**, в свою очередь, ищет ответы на отсутствие человеческого прикосновения через технологические альтернативы.\\n\\n### Визуальное сопоставление\\n\\nПервое изображение показывает нежного младенца, что напоминает одну из скульптур **Transfigurations**, где искусственные улучшения скрыты за внешним видом обычного ребенка. Второе изображение похоже на подготовленную сцену или лабораторию, что может быть аналогией со сложными исследованиями и экспериментами, подобными тем, что проводит **Maja Smrekar**. Третье изображение демонстрирует механическую альтернативу человеческому прикосновению, резонируя с темой, изучаемой в **Compression Cradle** от **Lucy McRae**.\\n\\nЭти произведения искусства открывают диалог о влиянии нашего быстро развивающегося мира на условия человеческого существования и наше место в биологическом и технологическом континууме.', role='assistant', function_call=None, tool_calls=None))], created=1712846202, model='gpt-4-turbo-2024-04-09', object='chat.completion', system_fingerprint='fp_d1bac968b4', usage=CompletionUsage(completion_tokens=1384, prompt_tokens=2053, total_tokens=3437))\n"
     ]
    }
   ],
   "execution_count": 3
  },
  {
   "metadata": {},
   "cell_type": "code",
   "outputs": [],
   "execution_count": null,
   "source": [
    "import torch\n",
    "\n",
    "del artwork_retriever\n",
    "torch.cuda.empty_cache()  # Clear memory cache if using CUDA\n",
    "gc.collect()\n",
    "\n",
    "hf_analysis = HFArtworkAnalyser()\n",
    "hf_analysis_result = hf_analysis.analyze_artworks(main_artwork, related_artworks)\n",
    "\n",
    "print(hf_analysis_result)"
   ],
   "id": "9cdfb91de4ca83c1"
  },
  {
   "metadata": {
    "ExecuteTime": {
     "end_time": "2024-04-11T22:08:52.865212Z",
     "start_time": "2024-04-11T22:08:52.418584Z"
    }
   },
   "cell_type": "code",
   "source": [
    "from transformers import AutoModelForCausalLM, AutoTokenizer, LlamaForCausalLM\n",
    "llm = AutoModelForCausalLM.from_pretrained(pretrained_model_name_or_path=\"cjpais/llava-1.6-mistral-7b-gguf\", model_file=\"llava-v1.6-mistral-7b.Q5_K_M.gguf\")\n"
   ],
   "id": "e610eb3b97f5ecf9",
   "outputs": [
    {
     "ename": "OSError",
     "evalue": "cjpais/llava-1.6-mistral-7b-gguf does not appear to have a file named config.json. Checkout 'https://huggingface.co/cjpais/llava-1.6-mistral-7b-gguf/main' for available files.",
     "output_type": "error",
     "traceback": [
      "\u001B[0;31m---------------------------------------------------------------------------\u001B[0m",
      "\u001B[0;31mHTTPError\u001B[0m                                 Traceback (most recent call last)",
      "File \u001B[0;32m~/Documents/GitHub/science_art_at_least_once_a_week/venv/lib/python3.11/site-packages/huggingface_hub/utils/_errors.py:304\u001B[0m, in \u001B[0;36mhf_raise_for_status\u001B[0;34m(response, endpoint_name)\u001B[0m\n\u001B[1;32m    303\u001B[0m \u001B[38;5;28;01mtry\u001B[39;00m:\n\u001B[0;32m--> 304\u001B[0m     \u001B[43mresponse\u001B[49m\u001B[38;5;241;43m.\u001B[39;49m\u001B[43mraise_for_status\u001B[49m\u001B[43m(\u001B[49m\u001B[43m)\u001B[49m\n\u001B[1;32m    305\u001B[0m \u001B[38;5;28;01mexcept\u001B[39;00m HTTPError \u001B[38;5;28;01mas\u001B[39;00m e:\n",
      "File \u001B[0;32m~/Documents/GitHub/science_art_at_least_once_a_week/venv/lib/python3.11/site-packages/requests/models.py:1021\u001B[0m, in \u001B[0;36mResponse.raise_for_status\u001B[0;34m(self)\u001B[0m\n\u001B[1;32m   1020\u001B[0m \u001B[38;5;28;01mif\u001B[39;00m http_error_msg:\n\u001B[0;32m-> 1021\u001B[0m     \u001B[38;5;28;01mraise\u001B[39;00m HTTPError(http_error_msg, response\u001B[38;5;241m=\u001B[39m\u001B[38;5;28mself\u001B[39m)\n",
      "\u001B[0;31mHTTPError\u001B[0m: 404 Client Error: Not Found for url: https://huggingface.co/cjpais/llava-1.6-mistral-7b-gguf/resolve/main/config.json",
      "\nThe above exception was the direct cause of the following exception:\n",
      "\u001B[0;31mEntryNotFoundError\u001B[0m                        Traceback (most recent call last)",
      "File \u001B[0;32m~/Documents/GitHub/science_art_at_least_once_a_week/venv/lib/python3.11/site-packages/transformers/utils/hub.py:398\u001B[0m, in \u001B[0;36mcached_file\u001B[0;34m(path_or_repo_id, filename, cache_dir, force_download, resume_download, proxies, token, revision, local_files_only, subfolder, repo_type, user_agent, _raise_exceptions_for_gated_repo, _raise_exceptions_for_missing_entries, _raise_exceptions_for_connection_errors, _commit_hash, **deprecated_kwargs)\u001B[0m\n\u001B[1;32m    396\u001B[0m \u001B[38;5;28;01mtry\u001B[39;00m:\n\u001B[1;32m    397\u001B[0m     \u001B[38;5;66;03m# Load from URL or cache if already cached\u001B[39;00m\n\u001B[0;32m--> 398\u001B[0m     resolved_file \u001B[38;5;241m=\u001B[39m \u001B[43mhf_hub_download\u001B[49m\u001B[43m(\u001B[49m\n\u001B[1;32m    399\u001B[0m \u001B[43m        \u001B[49m\u001B[43mpath_or_repo_id\u001B[49m\u001B[43m,\u001B[49m\n\u001B[1;32m    400\u001B[0m \u001B[43m        \u001B[49m\u001B[43mfilename\u001B[49m\u001B[43m,\u001B[49m\n\u001B[1;32m    401\u001B[0m \u001B[43m        \u001B[49m\u001B[43msubfolder\u001B[49m\u001B[38;5;241;43m=\u001B[39;49m\u001B[38;5;28;43;01mNone\u001B[39;49;00m\u001B[43m \u001B[49m\u001B[38;5;28;43;01mif\u001B[39;49;00m\u001B[43m \u001B[49m\u001B[38;5;28;43mlen\u001B[39;49m\u001B[43m(\u001B[49m\u001B[43msubfolder\u001B[49m\u001B[43m)\u001B[49m\u001B[43m \u001B[49m\u001B[38;5;241;43m==\u001B[39;49m\u001B[43m \u001B[49m\u001B[38;5;241;43m0\u001B[39;49m\u001B[43m \u001B[49m\u001B[38;5;28;43;01melse\u001B[39;49;00m\u001B[43m \u001B[49m\u001B[43msubfolder\u001B[49m\u001B[43m,\u001B[49m\n\u001B[1;32m    402\u001B[0m \u001B[43m        \u001B[49m\u001B[43mrepo_type\u001B[49m\u001B[38;5;241;43m=\u001B[39;49m\u001B[43mrepo_type\u001B[49m\u001B[43m,\u001B[49m\n\u001B[1;32m    403\u001B[0m \u001B[43m        \u001B[49m\u001B[43mrevision\u001B[49m\u001B[38;5;241;43m=\u001B[39;49m\u001B[43mrevision\u001B[49m\u001B[43m,\u001B[49m\n\u001B[1;32m    404\u001B[0m \u001B[43m        \u001B[49m\u001B[43mcache_dir\u001B[49m\u001B[38;5;241;43m=\u001B[39;49m\u001B[43mcache_dir\u001B[49m\u001B[43m,\u001B[49m\n\u001B[1;32m    405\u001B[0m \u001B[43m        \u001B[49m\u001B[43muser_agent\u001B[49m\u001B[38;5;241;43m=\u001B[39;49m\u001B[43muser_agent\u001B[49m\u001B[43m,\u001B[49m\n\u001B[1;32m    406\u001B[0m \u001B[43m        \u001B[49m\u001B[43mforce_download\u001B[49m\u001B[38;5;241;43m=\u001B[39;49m\u001B[43mforce_download\u001B[49m\u001B[43m,\u001B[49m\n\u001B[1;32m    407\u001B[0m \u001B[43m        \u001B[49m\u001B[43mproxies\u001B[49m\u001B[38;5;241;43m=\u001B[39;49m\u001B[43mproxies\u001B[49m\u001B[43m,\u001B[49m\n\u001B[1;32m    408\u001B[0m \u001B[43m        \u001B[49m\u001B[43mresume_download\u001B[49m\u001B[38;5;241;43m=\u001B[39;49m\u001B[43mresume_download\u001B[49m\u001B[43m,\u001B[49m\n\u001B[1;32m    409\u001B[0m \u001B[43m        \u001B[49m\u001B[43mtoken\u001B[49m\u001B[38;5;241;43m=\u001B[39;49m\u001B[43mtoken\u001B[49m\u001B[43m,\u001B[49m\n\u001B[1;32m    410\u001B[0m \u001B[43m        \u001B[49m\u001B[43mlocal_files_only\u001B[49m\u001B[38;5;241;43m=\u001B[39;49m\u001B[43mlocal_files_only\u001B[49m\u001B[43m,\u001B[49m\n\u001B[1;32m    411\u001B[0m \u001B[43m    \u001B[49m\u001B[43m)\u001B[49m\n\u001B[1;32m    412\u001B[0m \u001B[38;5;28;01mexcept\u001B[39;00m GatedRepoError \u001B[38;5;28;01mas\u001B[39;00m e:\n",
      "File \u001B[0;32m~/Documents/GitHub/science_art_at_least_once_a_week/venv/lib/python3.11/site-packages/huggingface_hub/utils/_validators.py:119\u001B[0m, in \u001B[0;36mvalidate_hf_hub_args.<locals>._inner_fn\u001B[0;34m(*args, **kwargs)\u001B[0m\n\u001B[1;32m    117\u001B[0m     kwargs \u001B[38;5;241m=\u001B[39m smoothly_deprecate_use_auth_token(fn_name\u001B[38;5;241m=\u001B[39mfn\u001B[38;5;241m.\u001B[39m\u001B[38;5;18m__name__\u001B[39m, has_token\u001B[38;5;241m=\u001B[39mhas_token, kwargs\u001B[38;5;241m=\u001B[39mkwargs)\n\u001B[0;32m--> 119\u001B[0m \u001B[38;5;28;01mreturn\u001B[39;00m \u001B[43mfn\u001B[49m\u001B[43m(\u001B[49m\u001B[38;5;241;43m*\u001B[39;49m\u001B[43margs\u001B[49m\u001B[43m,\u001B[49m\u001B[43m \u001B[49m\u001B[38;5;241;43m*\u001B[39;49m\u001B[38;5;241;43m*\u001B[39;49m\u001B[43mkwargs\u001B[49m\u001B[43m)\u001B[49m\n",
      "File \u001B[0;32m~/Documents/GitHub/science_art_at_least_once_a_week/venv/lib/python3.11/site-packages/huggingface_hub/file_download.py:1261\u001B[0m, in \u001B[0;36mhf_hub_download\u001B[0;34m(repo_id, filename, subfolder, repo_type, revision, library_name, library_version, cache_dir, local_dir, local_dir_use_symlinks, user_agent, force_download, force_filename, proxies, etag_timeout, resume_download, token, local_files_only, headers, legacy_cache_layout, endpoint)\u001B[0m\n\u001B[1;32m   1260\u001B[0m \u001B[38;5;28;01mtry\u001B[39;00m:\n\u001B[0;32m-> 1261\u001B[0m     metadata \u001B[38;5;241m=\u001B[39m \u001B[43mget_hf_file_metadata\u001B[49m\u001B[43m(\u001B[49m\n\u001B[1;32m   1262\u001B[0m \u001B[43m        \u001B[49m\u001B[43murl\u001B[49m\u001B[38;5;241;43m=\u001B[39;49m\u001B[43murl\u001B[49m\u001B[43m,\u001B[49m\n\u001B[1;32m   1263\u001B[0m \u001B[43m        \u001B[49m\u001B[43mtoken\u001B[49m\u001B[38;5;241;43m=\u001B[39;49m\u001B[43mtoken\u001B[49m\u001B[43m,\u001B[49m\n\u001B[1;32m   1264\u001B[0m \u001B[43m        \u001B[49m\u001B[43mproxies\u001B[49m\u001B[38;5;241;43m=\u001B[39;49m\u001B[43mproxies\u001B[49m\u001B[43m,\u001B[49m\n\u001B[1;32m   1265\u001B[0m \u001B[43m        \u001B[49m\u001B[43mtimeout\u001B[49m\u001B[38;5;241;43m=\u001B[39;49m\u001B[43metag_timeout\u001B[49m\u001B[43m,\u001B[49m\n\u001B[1;32m   1266\u001B[0m \u001B[43m        \u001B[49m\u001B[43mlibrary_name\u001B[49m\u001B[38;5;241;43m=\u001B[39;49m\u001B[43mlibrary_name\u001B[49m\u001B[43m,\u001B[49m\n\u001B[1;32m   1267\u001B[0m \u001B[43m        \u001B[49m\u001B[43mlibrary_version\u001B[49m\u001B[38;5;241;43m=\u001B[39;49m\u001B[43mlibrary_version\u001B[49m\u001B[43m,\u001B[49m\n\u001B[1;32m   1268\u001B[0m \u001B[43m        \u001B[49m\u001B[43muser_agent\u001B[49m\u001B[38;5;241;43m=\u001B[39;49m\u001B[43muser_agent\u001B[49m\u001B[43m,\u001B[49m\n\u001B[1;32m   1269\u001B[0m \u001B[43m    \u001B[49m\u001B[43m)\u001B[49m\n\u001B[1;32m   1270\u001B[0m \u001B[38;5;28;01mexcept\u001B[39;00m EntryNotFoundError \u001B[38;5;28;01mas\u001B[39;00m http_error:\n\u001B[1;32m   1271\u001B[0m     \u001B[38;5;66;03m# Cache the non-existence of the file and raise\u001B[39;00m\n",
      "File \u001B[0;32m~/Documents/GitHub/science_art_at_least_once_a_week/venv/lib/python3.11/site-packages/huggingface_hub/utils/_validators.py:119\u001B[0m, in \u001B[0;36mvalidate_hf_hub_args.<locals>._inner_fn\u001B[0;34m(*args, **kwargs)\u001B[0m\n\u001B[1;32m    117\u001B[0m     kwargs \u001B[38;5;241m=\u001B[39m smoothly_deprecate_use_auth_token(fn_name\u001B[38;5;241m=\u001B[39mfn\u001B[38;5;241m.\u001B[39m\u001B[38;5;18m__name__\u001B[39m, has_token\u001B[38;5;241m=\u001B[39mhas_token, kwargs\u001B[38;5;241m=\u001B[39mkwargs)\n\u001B[0;32m--> 119\u001B[0m \u001B[38;5;28;01mreturn\u001B[39;00m \u001B[43mfn\u001B[49m\u001B[43m(\u001B[49m\u001B[38;5;241;43m*\u001B[39;49m\u001B[43margs\u001B[49m\u001B[43m,\u001B[49m\u001B[43m \u001B[49m\u001B[38;5;241;43m*\u001B[39;49m\u001B[38;5;241;43m*\u001B[39;49m\u001B[43mkwargs\u001B[49m\u001B[43m)\u001B[49m\n",
      "File \u001B[0;32m~/Documents/GitHub/science_art_at_least_once_a_week/venv/lib/python3.11/site-packages/huggingface_hub/file_download.py:1674\u001B[0m, in \u001B[0;36mget_hf_file_metadata\u001B[0;34m(url, token, proxies, timeout, library_name, library_version, user_agent, headers)\u001B[0m\n\u001B[1;32m   1673\u001B[0m \u001B[38;5;66;03m# Retrieve metadata\u001B[39;00m\n\u001B[0;32m-> 1674\u001B[0m r \u001B[38;5;241m=\u001B[39m \u001B[43m_request_wrapper\u001B[49m\u001B[43m(\u001B[49m\n\u001B[1;32m   1675\u001B[0m \u001B[43m    \u001B[49m\u001B[43mmethod\u001B[49m\u001B[38;5;241;43m=\u001B[39;49m\u001B[38;5;124;43m\"\u001B[39;49m\u001B[38;5;124;43mHEAD\u001B[39;49m\u001B[38;5;124;43m\"\u001B[39;49m\u001B[43m,\u001B[49m\n\u001B[1;32m   1676\u001B[0m \u001B[43m    \u001B[49m\u001B[43murl\u001B[49m\u001B[38;5;241;43m=\u001B[39;49m\u001B[43murl\u001B[49m\u001B[43m,\u001B[49m\n\u001B[1;32m   1677\u001B[0m \u001B[43m    \u001B[49m\u001B[43mheaders\u001B[49m\u001B[38;5;241;43m=\u001B[39;49m\u001B[43mheaders\u001B[49m\u001B[43m,\u001B[49m\n\u001B[1;32m   1678\u001B[0m \u001B[43m    \u001B[49m\u001B[43mallow_redirects\u001B[49m\u001B[38;5;241;43m=\u001B[39;49m\u001B[38;5;28;43;01mFalse\u001B[39;49;00m\u001B[43m,\u001B[49m\n\u001B[1;32m   1679\u001B[0m \u001B[43m    \u001B[49m\u001B[43mfollow_relative_redirects\u001B[49m\u001B[38;5;241;43m=\u001B[39;49m\u001B[38;5;28;43;01mTrue\u001B[39;49;00m\u001B[43m,\u001B[49m\n\u001B[1;32m   1680\u001B[0m \u001B[43m    \u001B[49m\u001B[43mproxies\u001B[49m\u001B[38;5;241;43m=\u001B[39;49m\u001B[43mproxies\u001B[49m\u001B[43m,\u001B[49m\n\u001B[1;32m   1681\u001B[0m \u001B[43m    \u001B[49m\u001B[43mtimeout\u001B[49m\u001B[38;5;241;43m=\u001B[39;49m\u001B[43mtimeout\u001B[49m\u001B[43m,\u001B[49m\n\u001B[1;32m   1682\u001B[0m \u001B[43m\u001B[49m\u001B[43m)\u001B[49m\n\u001B[1;32m   1683\u001B[0m hf_raise_for_status(r)\n",
      "File \u001B[0;32m~/Documents/GitHub/science_art_at_least_once_a_week/venv/lib/python3.11/site-packages/huggingface_hub/file_download.py:369\u001B[0m, in \u001B[0;36m_request_wrapper\u001B[0;34m(method, url, follow_relative_redirects, **params)\u001B[0m\n\u001B[1;32m    368\u001B[0m \u001B[38;5;28;01mif\u001B[39;00m follow_relative_redirects:\n\u001B[0;32m--> 369\u001B[0m     response \u001B[38;5;241m=\u001B[39m \u001B[43m_request_wrapper\u001B[49m\u001B[43m(\u001B[49m\n\u001B[1;32m    370\u001B[0m \u001B[43m        \u001B[49m\u001B[43mmethod\u001B[49m\u001B[38;5;241;43m=\u001B[39;49m\u001B[43mmethod\u001B[49m\u001B[43m,\u001B[49m\n\u001B[1;32m    371\u001B[0m \u001B[43m        \u001B[49m\u001B[43murl\u001B[49m\u001B[38;5;241;43m=\u001B[39;49m\u001B[43murl\u001B[49m\u001B[43m,\u001B[49m\n\u001B[1;32m    372\u001B[0m \u001B[43m        \u001B[49m\u001B[43mfollow_relative_redirects\u001B[49m\u001B[38;5;241;43m=\u001B[39;49m\u001B[38;5;28;43;01mFalse\u001B[39;49;00m\u001B[43m,\u001B[49m\n\u001B[1;32m    373\u001B[0m \u001B[43m        \u001B[49m\u001B[38;5;241;43m*\u001B[39;49m\u001B[38;5;241;43m*\u001B[39;49m\u001B[43mparams\u001B[49m\u001B[43m,\u001B[49m\n\u001B[1;32m    374\u001B[0m \u001B[43m    \u001B[49m\u001B[43m)\u001B[49m\n\u001B[1;32m    376\u001B[0m     \u001B[38;5;66;03m# If redirection, we redirect only relative paths.\u001B[39;00m\n\u001B[1;32m    377\u001B[0m     \u001B[38;5;66;03m# This is useful in case of a renamed repository.\u001B[39;00m\n",
      "File \u001B[0;32m~/Documents/GitHub/science_art_at_least_once_a_week/venv/lib/python3.11/site-packages/huggingface_hub/file_download.py:393\u001B[0m, in \u001B[0;36m_request_wrapper\u001B[0;34m(method, url, follow_relative_redirects, **params)\u001B[0m\n\u001B[1;32m    392\u001B[0m response \u001B[38;5;241m=\u001B[39m get_session()\u001B[38;5;241m.\u001B[39mrequest(method\u001B[38;5;241m=\u001B[39mmethod, url\u001B[38;5;241m=\u001B[39murl, \u001B[38;5;241m*\u001B[39m\u001B[38;5;241m*\u001B[39mparams)\n\u001B[0;32m--> 393\u001B[0m \u001B[43mhf_raise_for_status\u001B[49m\u001B[43m(\u001B[49m\u001B[43mresponse\u001B[49m\u001B[43m)\u001B[49m\n\u001B[1;32m    394\u001B[0m \u001B[38;5;28;01mreturn\u001B[39;00m response\n",
      "File \u001B[0;32m~/Documents/GitHub/science_art_at_least_once_a_week/venv/lib/python3.11/site-packages/huggingface_hub/utils/_errors.py:315\u001B[0m, in \u001B[0;36mhf_raise_for_status\u001B[0;34m(response, endpoint_name)\u001B[0m\n\u001B[1;32m    314\u001B[0m     message \u001B[38;5;241m=\u001B[39m \u001B[38;5;124mf\u001B[39m\u001B[38;5;124m\"\u001B[39m\u001B[38;5;132;01m{\u001B[39;00mresponse\u001B[38;5;241m.\u001B[39mstatus_code\u001B[38;5;132;01m}\u001B[39;00m\u001B[38;5;124m Client Error.\u001B[39m\u001B[38;5;124m\"\u001B[39m \u001B[38;5;241m+\u001B[39m \u001B[38;5;124m\"\u001B[39m\u001B[38;5;130;01m\\n\u001B[39;00m\u001B[38;5;130;01m\\n\u001B[39;00m\u001B[38;5;124m\"\u001B[39m \u001B[38;5;241m+\u001B[39m \u001B[38;5;124mf\u001B[39m\u001B[38;5;124m\"\u001B[39m\u001B[38;5;124mEntry Not Found for url: \u001B[39m\u001B[38;5;132;01m{\u001B[39;00mresponse\u001B[38;5;241m.\u001B[39murl\u001B[38;5;132;01m}\u001B[39;00m\u001B[38;5;124m.\u001B[39m\u001B[38;5;124m\"\u001B[39m\n\u001B[0;32m--> 315\u001B[0m     \u001B[38;5;28;01mraise\u001B[39;00m EntryNotFoundError(message, response) \u001B[38;5;28;01mfrom\u001B[39;00m \u001B[38;5;21;01me\u001B[39;00m\n\u001B[1;32m    317\u001B[0m \u001B[38;5;28;01melif\u001B[39;00m error_code \u001B[38;5;241m==\u001B[39m \u001B[38;5;124m\"\u001B[39m\u001B[38;5;124mGatedRepo\u001B[39m\u001B[38;5;124m\"\u001B[39m:\n",
      "\u001B[0;31mEntryNotFoundError\u001B[0m: 404 Client Error. (Request ID: Root=1-66185f74-644289c22d4245c27a0327c0;d64a61dc-a421-4d1e-9bb8-e4246d4fe95a)\n\nEntry Not Found for url: https://huggingface.co/cjpais/llava-1.6-mistral-7b-gguf/resolve/main/config.json.",
      "\nThe above exception was the direct cause of the following exception:\n",
      "\u001B[0;31mOSError\u001B[0m                                   Traceback (most recent call last)",
      "Cell \u001B[0;32mIn[5], line 2\u001B[0m\n\u001B[1;32m      1\u001B[0m \u001B[38;5;28;01mfrom\u001B[39;00m \u001B[38;5;21;01mtransformers\u001B[39;00m \u001B[38;5;28;01mimport\u001B[39;00m AutoModelForCausalLM, AutoTokenizer, LlamaForCausalLM\n\u001B[0;32m----> 2\u001B[0m llm \u001B[38;5;241m=\u001B[39m \u001B[43mAutoModelForCausalLM\u001B[49m\u001B[38;5;241;43m.\u001B[39;49m\u001B[43mfrom_pretrained\u001B[49m\u001B[43m(\u001B[49m\u001B[43mpretrained_model_name_or_path\u001B[49m\u001B[38;5;241;43m=\u001B[39;49m\u001B[38;5;124;43m\"\u001B[39;49m\u001B[38;5;124;43mcjpais/llava-1.6-mistral-7b-gguf\u001B[39;49m\u001B[38;5;124;43m\"\u001B[39;49m\u001B[43m,\u001B[49m\u001B[43m \u001B[49m\u001B[43mmodel_file\u001B[49m\u001B[38;5;241;43m=\u001B[39;49m\u001B[38;5;124;43m\"\u001B[39;49m\u001B[38;5;124;43mllava-v1.6-mistral-7b.Q5_K_M.gguf\u001B[39;49m\u001B[38;5;124;43m\"\u001B[39;49m\u001B[43m)\u001B[49m\n",
      "File \u001B[0;32m~/Documents/GitHub/science_art_at_least_once_a_week/venv/lib/python3.11/site-packages/transformers/models/auto/auto_factory.py:523\u001B[0m, in \u001B[0;36m_BaseAutoModelClass.from_pretrained\u001B[0;34m(cls, pretrained_model_name_or_path, *model_args, **kwargs)\u001B[0m\n\u001B[1;32m    520\u001B[0m \u001B[38;5;28;01mif\u001B[39;00m kwargs\u001B[38;5;241m.\u001B[39mget(\u001B[38;5;124m\"\u001B[39m\u001B[38;5;124mquantization_config\u001B[39m\u001B[38;5;124m\"\u001B[39m, \u001B[38;5;28;01mNone\u001B[39;00m) \u001B[38;5;129;01mis\u001B[39;00m \u001B[38;5;129;01mnot\u001B[39;00m \u001B[38;5;28;01mNone\u001B[39;00m:\n\u001B[1;32m    521\u001B[0m     _ \u001B[38;5;241m=\u001B[39m kwargs\u001B[38;5;241m.\u001B[39mpop(\u001B[38;5;124m\"\u001B[39m\u001B[38;5;124mquantization_config\u001B[39m\u001B[38;5;124m\"\u001B[39m)\n\u001B[0;32m--> 523\u001B[0m config, kwargs \u001B[38;5;241m=\u001B[39m \u001B[43mAutoConfig\u001B[49m\u001B[38;5;241;43m.\u001B[39;49m\u001B[43mfrom_pretrained\u001B[49m\u001B[43m(\u001B[49m\n\u001B[1;32m    524\u001B[0m \u001B[43m    \u001B[49m\u001B[43mpretrained_model_name_or_path\u001B[49m\u001B[43m,\u001B[49m\n\u001B[1;32m    525\u001B[0m \u001B[43m    \u001B[49m\u001B[43mreturn_unused_kwargs\u001B[49m\u001B[38;5;241;43m=\u001B[39;49m\u001B[38;5;28;43;01mTrue\u001B[39;49;00m\u001B[43m,\u001B[49m\n\u001B[1;32m    526\u001B[0m \u001B[43m    \u001B[49m\u001B[43mtrust_remote_code\u001B[49m\u001B[38;5;241;43m=\u001B[39;49m\u001B[43mtrust_remote_code\u001B[49m\u001B[43m,\u001B[49m\n\u001B[1;32m    527\u001B[0m \u001B[43m    \u001B[49m\u001B[43mcode_revision\u001B[49m\u001B[38;5;241;43m=\u001B[39;49m\u001B[43mcode_revision\u001B[49m\u001B[43m,\u001B[49m\n\u001B[1;32m    528\u001B[0m \u001B[43m    \u001B[49m\u001B[43m_commit_hash\u001B[49m\u001B[38;5;241;43m=\u001B[39;49m\u001B[43mcommit_hash\u001B[49m\u001B[43m,\u001B[49m\n\u001B[1;32m    529\u001B[0m \u001B[43m    \u001B[49m\u001B[38;5;241;43m*\u001B[39;49m\u001B[38;5;241;43m*\u001B[39;49m\u001B[43mhub_kwargs\u001B[49m\u001B[43m,\u001B[49m\n\u001B[1;32m    530\u001B[0m \u001B[43m    \u001B[49m\u001B[38;5;241;43m*\u001B[39;49m\u001B[38;5;241;43m*\u001B[39;49m\u001B[43mkwargs\u001B[49m\u001B[43m,\u001B[49m\n\u001B[1;32m    531\u001B[0m \u001B[43m\u001B[49m\u001B[43m)\u001B[49m\n\u001B[1;32m    533\u001B[0m \u001B[38;5;66;03m# if torch_dtype=auto was passed here, ensure to pass it on\u001B[39;00m\n\u001B[1;32m    534\u001B[0m \u001B[38;5;28;01mif\u001B[39;00m kwargs_orig\u001B[38;5;241m.\u001B[39mget(\u001B[38;5;124m\"\u001B[39m\u001B[38;5;124mtorch_dtype\u001B[39m\u001B[38;5;124m\"\u001B[39m, \u001B[38;5;28;01mNone\u001B[39;00m) \u001B[38;5;241m==\u001B[39m \u001B[38;5;124m\"\u001B[39m\u001B[38;5;124mauto\u001B[39m\u001B[38;5;124m\"\u001B[39m:\n",
      "File \u001B[0;32m~/Documents/GitHub/science_art_at_least_once_a_week/venv/lib/python3.11/site-packages/transformers/models/auto/configuration_auto.py:1138\u001B[0m, in \u001B[0;36mAutoConfig.from_pretrained\u001B[0;34m(cls, pretrained_model_name_or_path, **kwargs)\u001B[0m\n\u001B[1;32m   1135\u001B[0m trust_remote_code \u001B[38;5;241m=\u001B[39m kwargs\u001B[38;5;241m.\u001B[39mpop(\u001B[38;5;124m\"\u001B[39m\u001B[38;5;124mtrust_remote_code\u001B[39m\u001B[38;5;124m\"\u001B[39m, \u001B[38;5;28;01mNone\u001B[39;00m)\n\u001B[1;32m   1136\u001B[0m code_revision \u001B[38;5;241m=\u001B[39m kwargs\u001B[38;5;241m.\u001B[39mpop(\u001B[38;5;124m\"\u001B[39m\u001B[38;5;124mcode_revision\u001B[39m\u001B[38;5;124m\"\u001B[39m, \u001B[38;5;28;01mNone\u001B[39;00m)\n\u001B[0;32m-> 1138\u001B[0m config_dict, unused_kwargs \u001B[38;5;241m=\u001B[39m \u001B[43mPretrainedConfig\u001B[49m\u001B[38;5;241;43m.\u001B[39;49m\u001B[43mget_config_dict\u001B[49m\u001B[43m(\u001B[49m\u001B[43mpretrained_model_name_or_path\u001B[49m\u001B[43m,\u001B[49m\u001B[43m \u001B[49m\u001B[38;5;241;43m*\u001B[39;49m\u001B[38;5;241;43m*\u001B[39;49m\u001B[43mkwargs\u001B[49m\u001B[43m)\u001B[49m\n\u001B[1;32m   1139\u001B[0m has_remote_code \u001B[38;5;241m=\u001B[39m \u001B[38;5;124m\"\u001B[39m\u001B[38;5;124mauto_map\u001B[39m\u001B[38;5;124m\"\u001B[39m \u001B[38;5;129;01min\u001B[39;00m config_dict \u001B[38;5;129;01mand\u001B[39;00m \u001B[38;5;124m\"\u001B[39m\u001B[38;5;124mAutoConfig\u001B[39m\u001B[38;5;124m\"\u001B[39m \u001B[38;5;129;01min\u001B[39;00m config_dict[\u001B[38;5;124m\"\u001B[39m\u001B[38;5;124mauto_map\u001B[39m\u001B[38;5;124m\"\u001B[39m]\n\u001B[1;32m   1140\u001B[0m has_local_code \u001B[38;5;241m=\u001B[39m \u001B[38;5;124m\"\u001B[39m\u001B[38;5;124mmodel_type\u001B[39m\u001B[38;5;124m\"\u001B[39m \u001B[38;5;129;01min\u001B[39;00m config_dict \u001B[38;5;129;01mand\u001B[39;00m config_dict[\u001B[38;5;124m\"\u001B[39m\u001B[38;5;124mmodel_type\u001B[39m\u001B[38;5;124m\"\u001B[39m] \u001B[38;5;129;01min\u001B[39;00m CONFIG_MAPPING\n",
      "File \u001B[0;32m~/Documents/GitHub/science_art_at_least_once_a_week/venv/lib/python3.11/site-packages/transformers/configuration_utils.py:631\u001B[0m, in \u001B[0;36mPretrainedConfig.get_config_dict\u001B[0;34m(cls, pretrained_model_name_or_path, **kwargs)\u001B[0m\n\u001B[1;32m    629\u001B[0m original_kwargs \u001B[38;5;241m=\u001B[39m copy\u001B[38;5;241m.\u001B[39mdeepcopy(kwargs)\n\u001B[1;32m    630\u001B[0m \u001B[38;5;66;03m# Get config dict associated with the base config file\u001B[39;00m\n\u001B[0;32m--> 631\u001B[0m config_dict, kwargs \u001B[38;5;241m=\u001B[39m \u001B[38;5;28;43mcls\u001B[39;49m\u001B[38;5;241;43m.\u001B[39;49m\u001B[43m_get_config_dict\u001B[49m\u001B[43m(\u001B[49m\u001B[43mpretrained_model_name_or_path\u001B[49m\u001B[43m,\u001B[49m\u001B[43m \u001B[49m\u001B[38;5;241;43m*\u001B[39;49m\u001B[38;5;241;43m*\u001B[39;49m\u001B[43mkwargs\u001B[49m\u001B[43m)\u001B[49m\n\u001B[1;32m    632\u001B[0m \u001B[38;5;28;01mif\u001B[39;00m \u001B[38;5;124m\"\u001B[39m\u001B[38;5;124m_commit_hash\u001B[39m\u001B[38;5;124m\"\u001B[39m \u001B[38;5;129;01min\u001B[39;00m config_dict:\n\u001B[1;32m    633\u001B[0m     original_kwargs[\u001B[38;5;124m\"\u001B[39m\u001B[38;5;124m_commit_hash\u001B[39m\u001B[38;5;124m\"\u001B[39m] \u001B[38;5;241m=\u001B[39m config_dict[\u001B[38;5;124m\"\u001B[39m\u001B[38;5;124m_commit_hash\u001B[39m\u001B[38;5;124m\"\u001B[39m]\n",
      "File \u001B[0;32m~/Documents/GitHub/science_art_at_least_once_a_week/venv/lib/python3.11/site-packages/transformers/configuration_utils.py:686\u001B[0m, in \u001B[0;36mPretrainedConfig._get_config_dict\u001B[0;34m(cls, pretrained_model_name_or_path, **kwargs)\u001B[0m\n\u001B[1;32m    682\u001B[0m configuration_file \u001B[38;5;241m=\u001B[39m kwargs\u001B[38;5;241m.\u001B[39mpop(\u001B[38;5;124m\"\u001B[39m\u001B[38;5;124m_configuration_file\u001B[39m\u001B[38;5;124m\"\u001B[39m, CONFIG_NAME)\n\u001B[1;32m    684\u001B[0m \u001B[38;5;28;01mtry\u001B[39;00m:\n\u001B[1;32m    685\u001B[0m     \u001B[38;5;66;03m# Load from local folder or from cache or download from model Hub and cache\u001B[39;00m\n\u001B[0;32m--> 686\u001B[0m     resolved_config_file \u001B[38;5;241m=\u001B[39m \u001B[43mcached_file\u001B[49m\u001B[43m(\u001B[49m\n\u001B[1;32m    687\u001B[0m \u001B[43m        \u001B[49m\u001B[43mpretrained_model_name_or_path\u001B[49m\u001B[43m,\u001B[49m\n\u001B[1;32m    688\u001B[0m \u001B[43m        \u001B[49m\u001B[43mconfiguration_file\u001B[49m\u001B[43m,\u001B[49m\n\u001B[1;32m    689\u001B[0m \u001B[43m        \u001B[49m\u001B[43mcache_dir\u001B[49m\u001B[38;5;241;43m=\u001B[39;49m\u001B[43mcache_dir\u001B[49m\u001B[43m,\u001B[49m\n\u001B[1;32m    690\u001B[0m \u001B[43m        \u001B[49m\u001B[43mforce_download\u001B[49m\u001B[38;5;241;43m=\u001B[39;49m\u001B[43mforce_download\u001B[49m\u001B[43m,\u001B[49m\n\u001B[1;32m    691\u001B[0m \u001B[43m        \u001B[49m\u001B[43mproxies\u001B[49m\u001B[38;5;241;43m=\u001B[39;49m\u001B[43mproxies\u001B[49m\u001B[43m,\u001B[49m\n\u001B[1;32m    692\u001B[0m \u001B[43m        \u001B[49m\u001B[43mresume_download\u001B[49m\u001B[38;5;241;43m=\u001B[39;49m\u001B[43mresume_download\u001B[49m\u001B[43m,\u001B[49m\n\u001B[1;32m    693\u001B[0m \u001B[43m        \u001B[49m\u001B[43mlocal_files_only\u001B[49m\u001B[38;5;241;43m=\u001B[39;49m\u001B[43mlocal_files_only\u001B[49m\u001B[43m,\u001B[49m\n\u001B[1;32m    694\u001B[0m \u001B[43m        \u001B[49m\u001B[43mtoken\u001B[49m\u001B[38;5;241;43m=\u001B[39;49m\u001B[43mtoken\u001B[49m\u001B[43m,\u001B[49m\n\u001B[1;32m    695\u001B[0m \u001B[43m        \u001B[49m\u001B[43muser_agent\u001B[49m\u001B[38;5;241;43m=\u001B[39;49m\u001B[43muser_agent\u001B[49m\u001B[43m,\u001B[49m\n\u001B[1;32m    696\u001B[0m \u001B[43m        \u001B[49m\u001B[43mrevision\u001B[49m\u001B[38;5;241;43m=\u001B[39;49m\u001B[43mrevision\u001B[49m\u001B[43m,\u001B[49m\n\u001B[1;32m    697\u001B[0m \u001B[43m        \u001B[49m\u001B[43msubfolder\u001B[49m\u001B[38;5;241;43m=\u001B[39;49m\u001B[43msubfolder\u001B[49m\u001B[43m,\u001B[49m\n\u001B[1;32m    698\u001B[0m \u001B[43m        \u001B[49m\u001B[43m_commit_hash\u001B[49m\u001B[38;5;241;43m=\u001B[39;49m\u001B[43mcommit_hash\u001B[49m\u001B[43m,\u001B[49m\n\u001B[1;32m    699\u001B[0m \u001B[43m    \u001B[49m\u001B[43m)\u001B[49m\n\u001B[1;32m    700\u001B[0m     commit_hash \u001B[38;5;241m=\u001B[39m extract_commit_hash(resolved_config_file, commit_hash)\n\u001B[1;32m    701\u001B[0m \u001B[38;5;28;01mexcept\u001B[39;00m \u001B[38;5;167;01mEnvironmentError\u001B[39;00m:\n\u001B[1;32m    702\u001B[0m     \u001B[38;5;66;03m# Raise any environment error raise by `cached_file`. It will have a helpful error message adapted to\u001B[39;00m\n\u001B[1;32m    703\u001B[0m     \u001B[38;5;66;03m# the original exception.\u001B[39;00m\n",
      "File \u001B[0;32m~/Documents/GitHub/science_art_at_least_once_a_week/venv/lib/python3.11/site-packages/transformers/utils/hub.py:452\u001B[0m, in \u001B[0;36mcached_file\u001B[0;34m(path_or_repo_id, filename, cache_dir, force_download, resume_download, proxies, token, revision, local_files_only, subfolder, repo_type, user_agent, _raise_exceptions_for_gated_repo, _raise_exceptions_for_missing_entries, _raise_exceptions_for_connection_errors, _commit_hash, **deprecated_kwargs)\u001B[0m\n\u001B[1;32m    450\u001B[0m     \u001B[38;5;28;01mif\u001B[39;00m revision \u001B[38;5;129;01mis\u001B[39;00m \u001B[38;5;28;01mNone\u001B[39;00m:\n\u001B[1;32m    451\u001B[0m         revision \u001B[38;5;241m=\u001B[39m \u001B[38;5;124m\"\u001B[39m\u001B[38;5;124mmain\u001B[39m\u001B[38;5;124m\"\u001B[39m\n\u001B[0;32m--> 452\u001B[0m     \u001B[38;5;28;01mraise\u001B[39;00m \u001B[38;5;167;01mEnvironmentError\u001B[39;00m(\n\u001B[1;32m    453\u001B[0m         \u001B[38;5;124mf\u001B[39m\u001B[38;5;124m\"\u001B[39m\u001B[38;5;132;01m{\u001B[39;00mpath_or_repo_id\u001B[38;5;132;01m}\u001B[39;00m\u001B[38;5;124m does not appear to have a file named \u001B[39m\u001B[38;5;132;01m{\u001B[39;00mfull_filename\u001B[38;5;132;01m}\u001B[39;00m\u001B[38;5;124m. Checkout \u001B[39m\u001B[38;5;124m\"\u001B[39m\n\u001B[1;32m    454\u001B[0m         \u001B[38;5;124mf\u001B[39m\u001B[38;5;124m\"\u001B[39m\u001B[38;5;124m'\u001B[39m\u001B[38;5;124mhttps://huggingface.co/\u001B[39m\u001B[38;5;132;01m{\u001B[39;00mpath_or_repo_id\u001B[38;5;132;01m}\u001B[39;00m\u001B[38;5;124m/\u001B[39m\u001B[38;5;132;01m{\u001B[39;00mrevision\u001B[38;5;132;01m}\u001B[39;00m\u001B[38;5;124m'\u001B[39m\u001B[38;5;124m for available files.\u001B[39m\u001B[38;5;124m\"\u001B[39m\n\u001B[1;32m    455\u001B[0m     ) \u001B[38;5;28;01mfrom\u001B[39;00m \u001B[38;5;21;01me\u001B[39;00m\n\u001B[1;32m    456\u001B[0m \u001B[38;5;28;01mexcept\u001B[39;00m HTTPError \u001B[38;5;28;01mas\u001B[39;00m err:\n\u001B[1;32m    457\u001B[0m     resolved_file \u001B[38;5;241m=\u001B[39m _get_cache_file_to_return(path_or_repo_id, full_filename, cache_dir, revision)\n",
      "\u001B[0;31mOSError\u001B[0m: cjpais/llava-1.6-mistral-7b-gguf does not appear to have a file named config.json. Checkout 'https://huggingface.co/cjpais/llava-1.6-mistral-7b-gguf/main' for available files."
     ]
    }
   ],
   "execution_count": 5
  },
  {
   "metadata": {
    "ExecuteTime": {
     "end_time": "2024-04-11T14:37:30.700598Z",
     "start_time": "2024-04-11T14:37:30.698051Z"
    }
   },
   "cell_type": "code",
   "source": [
    "# from core.document_retrieval import VectorDB, Retriever\n",
    "\n",
    "# source = 'ars_electronica_prizewinners_ru.json'\n",
    "# path = 'not_posted.txt'\n",
    "# \n",
    "# vector_db = VectorDB(source)\n",
    "# vector_db.load()\n",
    "# vector_db.create_db()\n",
    "# retriever = Retriever(vector_db)\n",
    "# \n",
    "# with open(source, 'r', encoding='utf-8') as f:\n",
    "#     data = json.load(f)\n",
    "# \n",
    "# with open(path, 'r') as f:\n",
    "#     not_posted = f.readline().split(',')\n",
    "# \n",
    "# key = random.choice(not_posted)\n",
    "# print(f'Key is {key}')\n",
    "# artwork = data[key]\n",
    "# \n",
    "# print(\"Source:\\n\")\n",
    "# print(artwork[\"description_ru\"], \"\\n\")\n",
    "# \n",
    "# res = retriever.get_top_k(artwork['description_ru'], key, 2)\n",
    "# \n",
    "# print(\"Recs:\\n\")\n",
    "# for example in res:\n",
    "#     print(example.page_content, \"\\n\")\n",
    "#     \n",
    "#     \n",
    "# def delete_apostrophe(text):\n",
    "#     return text.replace(\"'\", \"\")\n",
    "# \n",
    "# art_name_main = artwork['name']\n",
    "# authors_main = artwork['authors']\n",
    "# year_main = artwork['year']\n",
    "# description_main = delete_apostrophe(artwork['description'])\n",
    "# image_main = artwork['img_list'][0]\n",
    "# \n",
    "# art_name_0 = res[0].metadata['name']\n",
    "# authors_0 = res[0].metadata['authors']\n",
    "# year_0 = res[0].metadata['year']\n",
    "# description_0 = delete_apostrophe(res[0].metadata['description'])\n",
    "# image_0 = res[0].metadata['img_list'][0]\n",
    "# \n",
    "# art_name_1 = res[1].metadata['name']\n",
    "# authors_1 = res[1].metadata['authors']\n",
    "# year_1 = res[1].metadata['year']\n",
    "# description_1 = delete_apostrophe(res[1].metadata['description'])\n",
    "# image_1 = res[1].metadata['img_list'][0]"
   ],
   "id": "b5161ea464d84ab0",
   "outputs": [],
   "execution_count": 4
  },
  {
   "metadata": {
    "ExecuteTime": {
     "end_time": "2024-04-11T14:37:30.704313Z",
     "start_time": "2024-04-11T14:37:30.701376Z"
    }
   },
   "cell_type": "code",
   "source": [
    "# prompt = f'Imagine you are an experienced art critic' \\\n",
    "#          f'You are presented with descriptions of three artworks.' \\\n",
    "#          f'The first one is a main artwork and two related artworks are similar to the first one.' \\\n",
    "#          f'On the first step you should provide a separate review of all the artworks.' \\\n",
    "#          f'Artworks also have related images, analyze their content and use this analysis in your reviews.' \\\n",
    "#          f'On the second step summarize all of these artworks in terms of similarities and differences.' \\\n",
    "#          f'Main artwork: name: {art_name_main}, authors: {authors_main}, year: {year_main}, description: {description_main}' \\\n",
    "#          f'Related artwork 1: name: {art_name_0}, authors: {authors_0}, year: {year_0}, description: {description_0}' \\\n",
    "#          f'Related artwork 2: name: {art_name_1}, authors: {authors_1}, year: {year_1}, description: {description_1}' \\\n",
    "#          f'Give your answer in Russian, but do not translate the names of artists and artworks.' \\\n",
    "#          f'Do not divide description and reasoning parts, combine them into the one paragraph' \\\n",
    "#          f'Use Markdown to structure your answer. Make the names of artists and artworks bold.' \\\n",
    "#          f'Give your answer step-by-step for each artwork.'\n",
    "# \n",
    "# response = client.chat.completions.create(\n",
    "#     model=\"gpt-4-turbo\",\n",
    "#     messages=[\n",
    "#         {\n",
    "#             \"role\": \"user\",\n",
    "#             \"content\": [\n",
    "#                 {\n",
    "#                     \"type\": \"text\",\n",
    "#                     \"text\": prompt,\n",
    "#                 },\n",
    "#                 {\n",
    "#                     \"type\": \"image_url\",\n",
    "#                     \"image_url\":{\n",
    "#                        \"url\": image_main,\n",
    "#                        \"detail\": \"low\"\n",
    "#                     },\n",
    "#                 },\n",
    "#                                 {\n",
    "#                     \"type\": \"image_url\",\n",
    "#                     \"image_url\":{\n",
    "#                        \"url\": image_0,\n",
    "#                        \"detail\": \"low\"\n",
    "#                     },\n",
    "#                 },\n",
    "#                                 {\n",
    "#                     \"type\": \"image_url\",\n",
    "#                     \"image_url\":{\n",
    "#                        \"url\": image_1,\n",
    "#                        \"detail\": \"low\"\n",
    "#                     },\n",
    "#                 },\n",
    "#             ],\n",
    "#         }\n",
    "#     ],\n",
    "#     max_tokens=1000,\n",
    "# )\n",
    "# \n",
    "# print(response.choices[0])"
   ],
   "id": "a9f9a7b6265ce88f",
   "outputs": [],
   "execution_count": 5
  },
  {
   "metadata": {
    "ExecuteTime": {
     "end_time": "2024-04-11T14:37:30.706476Z",
     "start_time": "2024-04-11T14:37:30.705097Z"
    }
   },
   "cell_type": "code",
   "source": "",
   "id": "fc2dceb590659bf",
   "outputs": [],
   "execution_count": 5
  }
 ],
 "metadata": {
  "kernelspec": {
   "display_name": "Python 3",
   "language": "python",
   "name": "python3"
  },
  "language_info": {
   "codemirror_mode": {
    "name": "ipython",
    "version": 2
   },
   "file_extension": ".py",
   "mimetype": "text/x-python",
   "name": "python",
   "nbconvert_exporter": "python",
   "pygments_lexer": "ipython2",
   "version": "2.7.6"
  }
 },
 "nbformat": 4,
 "nbformat_minor": 5
}
