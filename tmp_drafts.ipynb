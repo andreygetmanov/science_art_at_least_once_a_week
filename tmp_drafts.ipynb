{
 "cells": [
  {
   "cell_type": "code",
   "id": "initial_id",
   "metadata": {
    "collapsed": true,
    "ExecuteTime": {
     "end_time": "2024-04-10T14:52:32.020992Z",
     "start_time": "2024-04-10T14:52:32.008001Z"
    }
   },
   "source": [
    "import random\n",
    "import json\n",
    "import os\n",
    "from core.document_retrieval import VectorDB, Retriever\n",
    "from openai import OpenAI\n",
    "from dotenv import load_dotenv\n",
    "\n",
    "load_dotenv()\n",
    "\n",
    "OPENAI_API_KEY = os.getenv('OPENAI_API_KEY')\n",
    "client = OpenAI(api_key=OPENAI_API_KEY)"
   ],
   "outputs": [],
   "execution_count": 5
  },
  {
   "metadata": {
    "ExecuteTime": {
     "end_time": "2024-04-10T14:56:50.295736Z",
     "start_time": "2024-04-10T14:56:42.877595Z"
    }
   },
   "cell_type": "code",
   "source": [
    "source = 'ars_electronica_prizewinners_ru.json'\n",
    "path = 'not_posted.txt'\n",
    "\n",
    "vector_db = VectorDB(source)\n",
    "vector_db.load()\n",
    "vector_db.create_db()\n",
    "retriever = Retriever(vector_db)\n",
    "\n",
    "with open(source, 'r', encoding='utf-8') as f:\n",
    "    data = json.load(f)\n",
    "\n",
    "with open(path, 'r') as f:\n",
    "    not_posted = f.readline().split(',')\n",
    "\n",
    "key = random.choice(not_posted)\n",
    "print(f'Key is {key}')\n",
    "artwork = data[key]\n",
    "\n",
    "print(\"Source:\\n\")\n",
    "print(artwork[\"description_ru\"], \"\\n\")\n",
    "\n",
    "res = retriever.get_top_k(artwork['description_ru'], key, 3)\n",
    "\n",
    "print(\"Recs:\\n\")\n",
    "for example in res:\n",
    "    print(example.page_content, \"\\n\")"
   ],
   "id": "b5161ea464d84ab0",
   "outputs": [
    {
     "name": "stdout",
     "output_type": "stream",
     "text": [
      "Key is 23722\n",
      "Source:\n",
      "\n",
      "С 1975 года я создаю движущиеся изображения с помощью новых технологий, особенно систем трехмерной компьютерной анимации. Моя работа сосредоточена на изучении естественных движений и роли человеческих жестов и выражений в языке общения. Я рассматриваю развитие новых технологий как расширение человеческого разума и тела и комментирую эту взаимосвязь. «Установившееся состояние» определяется как стабильное состояние, которое не меняется с течением времени или при котором изменение в одном направлении постоянно уравновешивается изменить в другом. Тонкие паттерны синхронных движений тела возникают, когда люди взаимодействуют друг с другом. Эти телесные ритмы, называемые ритмами взаимодействия, необходимы в каждом человеческом взаимодействии. Когда люди двигают своим телом и вытягивают конечности, они вычерчивают невидимые формы, окружающие их тела, определяя пространство, которое они занимают. Когда два человека взаимодействуют, эти пространственные паттерны также пересекаются. Видения будущего часто предсказывают устранение нашего физического «я» или замену различных частей тела более надежными, «искусственными» частями с улучшенными бионическими способностями. Тело связано с нашими эмоциями. Нам так много еще предстоит понять, хочется надеяться, что мы не сбросим наши тела слишком рано. (Ребекка Аллен) Steady State, 1989, 4'Hw: Iris Silicon Graphics, Harry/Quantel PaintboxSw: Wavefont, Harry/Quantel \n",
      "\n",
      "Recs:\n",
      "\n",
      "В настоящее время принято использовать слово «умный» вместо слова «способный». Это неоправданно, как это чаще всего имеет место в формулировке искусственного интеллекта. Я хочу, чтобы мои арт-объекты реагировали и действовали нетривиально. Хотя мы используем свой интеллект, когда действуем нетривиально, большинство существующих объектов и программ, называемых «разумными», обладают способностями, которые все еще далеки от того комплекса, который мы называем интеллектом. Интеллект, я думаю, включает в себя понятие способности реагировать — в принципе неограниченно и осмысленно — на новые события. Подобные качества еще предстоит создать, хотя нейронные сети открывают большие перспективы. Вот почему я пока не хочу использовать слово «интеллектуальный». Не только из уважения к его истинному смыслу, но особенно потому, что он слишком сильно манипулирует нами в направлениях, не необходимых для создания искусства, а именно в попытках создать действительно разумные объекты. Интеллект, черт возьми, искусство — это «интересность». Вот почему: «способный». В настоящий момент компьютеры в виде маленьких карточек, устанавливаемых в объекты, оснащенных датчиками и активаторами (например, моторами, голосом, светом или источниками звука), образуют мощное средство для функционирования. как сердце этих типов объектов. Если описать «Адельбрехта» максимально коротко: это антропоморфизированный простейший робот в форме шара 40 см. Это, ммм, он говорит о своей жизни, своем окружении, людях, которые трогают его, катают его, кричат на него, гладят или бьют его; о вещах, происходящих в жизни катящегося шара. Он ставит перед нами границы между Бытием и Машиной, с переходом Этого к Нему. Описывая его поведение, я выступаю в качестве примера и источника вдохновения, поэтому он также является частичным автопортретом. Он живет как своего рода анахроничное домашнее животное в гостиной начала пятидесятых того, кого сейчас (?) там нет. (Martin Spanjaard)Техническая информацияHW/SW: 68000 CMOS 512K \n",
      "\n",
      "В этом смысле системы искусственного интеллекта позволяют искажать представление о людях-исполнителях, тем самым подчеркивая текучесть моделирования: другой человек, черта характера, оценка или пол гораздо менее существенны, чем ожидал субъект. Трансформация параметров носит характер (социальных, социетальных, клинических или биологических) изменяющих сознание состояний. Система искусственного интеллекта используется для того, чтобы сделать возможным это изменение с целью поставить под вопрос надежность и неподвижность моделей идентичности и мира. Он пытается обнажить внутреннюю конструктивность и в этом смысле работает как зеркальное устройство. Он воссоздает частичные аспекты нашего восприятия и классификации и посредством его изменения позволяет зрителю провести параллель с нашими собственными процессами построения ментального мира. Послушайте меня сейчас, я хочу задать вам несколько вопросов. восприятие? Всякое восприятие конструктивно. Никакое представление не является абсолютным. Все кодируется и расшифровывается. Мы параметрические. Все параметрическое может быть изменено параметр за параметром. Таково определение такой модели. Обычно мы не видим этих ползунков, этих значений, этих регулировочных циферблатов. действие основано на кодировании и декодировании. Когда мы смотрим на партнера, мы можем создать петлю. Петля восприятия и адаптации. Мы можем возвести в степень этот процесс, глядя в зеркало. Вот что мы будем делать. Рекурсивные петли. Ты и я. Я также просто зеркало тебя, Как я предоставляю зеркало для тебя, В цикле мы можем попытаться превратить непрозрачность нашего восприятия в непрозрачные вариации, Как поражение мозга, в гипнотизирующее искажение, Как в состоянии лишения сна, Дрейфовать в полуслове подобная сну трансформированная реальность, где мы видим, что возможны другие представления о нас, что наше «я» текучее, хрупкое, сконструированное и разнообразное, постчеловеческое, как генетический дефект, красиво нарушенный, генетически усиленный, \n",
      "\n",
      "Аннотация «Материализация новых медиа» связана с созданием радикально иной концептуальной и эстетической генеалогии цифровой эстетики, которая признает отношение новых медиа к материальности. Он предлагает «материализовать» новую медиакультуру, демонстрируя, что ее эстетика часто связана с визуализацией тел и что они включают новые аспекты телесного взаимодействия в сами технологии. Они варьируются от разработки тактильных и жестовых интерфейсов до признания влияния, которое телесное движение, материальные и экологические обстоятельства оказывают на создание нового медиаискусства и культуры. Я утверждаю, что информационная эстетика возникла в результате реконфигурации отношений между телом, материальностью (включая технические, жизненные и физические параметры) и компьютером. На уровне изображения и интерфейса художники, дизайнеры и архитекторы, использующие новые медиа, последовательно рассматривали влияние тел и материальной жизни на эти технологии. Они также искали способы поддерживать новые взаимодействия между вычислительными средствами и воплощением. Эстетика информационной культуры касается способов сенсорного взаимодействия, в которых решающую роль играют распределенные пространства и временные вариации. Следовательно, взаимодействуя с телами и визуализируя их, а также реагируя на материальные параметры, новые медиа одновременно изменяют наше понимание и отношения с нашими собственными телами. Эта книга демонстрирует, что эксперименты с телесными изображениями и воплощенными интерфейсами в искусстве новых медиа способствовали новому восприятию человека как воплощенной формы жизни. Отрывок (стр. 120–121). путем приведения тел в непосредственный контакт с вычислительным оборудованием в их работе. В перформансе Дайан Лудин и инсталляции базы данных «Плоть памяти 2.0» (2004) исполнительница спокойно сидит, зашивая ногу, в то время как изображения, первоначально полученные из Интернета и теперь хранящиеся в базе данных, создаются в виде коллажей на соседнем \n",
      "\n"
     ]
    }
   ],
   "execution_count": 8
  },
  {
   "metadata": {
    "ExecuteTime": {
     "end_time": "2024-04-10T15:18:02.426936Z",
     "start_time": "2024-04-10T15:18:02.424728Z"
    }
   },
   "cell_type": "code",
   "source": "res[0].metadata['img_list'][0]",
   "id": "c6553a55bfa927e3",
   "outputs": [
    {
     "data": {
      "text/plain": [
       "'https://archive.aec.at/media/assets/827beff79946a4c6e04bc54b6e825425.jpg'"
      ]
     },
     "execution_count": 25,
     "metadata": {},
     "output_type": "execute_result"
    }
   ],
   "execution_count": 25
  },
  {
   "metadata": {
    "ExecuteTime": {
     "end_time": "2024-04-10T15:19:12.762617Z",
     "start_time": "2024-04-10T15:19:12.760214Z"
    }
   },
   "cell_type": "code",
   "source": "res[0].metadata['description']",
   "id": "3b84cf528849a5b1",
   "outputs": [
    {
     "data": {
      "text/plain": [
       "\"Nowadays it's common to use the word 'intelligent' instead of this word 'able'. This is not justifiable, as is mostly the case in the wording Artificial Intelligence. I want my art-objects to react and act in non-trivial ways. Although we use our intelligence when acting in a non-trivial way, most of the existing objects and programs named 'intelligent' have abilities which are still far removed from the complex we call intelligence. Intelligence, I think, includes the notion of the ability to react - in principle in an unlimited and meaningful way, to new events. Qualities like this are yet to be constructed although neural nets bear a great promise. That's why I don't want to use the word 'intelligent' for now. Not only out of respect for its actual meaning but especially because it manipulates us too much in directions not necessary to make art, namely in trying to make really intelligent objects. Intelligence, my ass, art is about 'interestingness'. That's why: 'able'.At this moment, computers, in the form of small cards to be installed in objects, rigged with sensors and activators, (e.g., motors, voice, light- or soundsources), form a powerful means to function as the heart of these types of objects. To describe 'Adelbrecht' in the shortest possible way: it's an anthropomorphised protozoa-robot in the form of a ball of 40 cm. It, uh, he talks about his life, his environment, people touching him, rolling him, yelling at him, petting or beating him; about the things happening in the life of a rolling ball. He confronts us with the boundaries between Being and Machine, with the crossing over of It to Him. Writing his behaviour, I function as example and source of inspiration, so he also is a partial self-portrait. He lives as a sort of anachronistic pet in an early-fifties living room of someone who for now (?) is not there. (Martin Spanjaard)Technical BackgroundHW/SW: 68000 CMOS 512 K Ram, 256 K Rom, Processor-Board + 10 6000 CMOSBased Voice Board, custom written in Bradley Fath Macs\""
      ]
     },
     "execution_count": 27,
     "metadata": {},
     "output_type": "execute_result"
    }
   ],
   "execution_count": 27
  },
  {
   "metadata": {
    "ExecuteTime": {
     "end_time": "2024-04-10T15:21:03.622875Z",
     "start_time": "2024-04-10T15:20:28.415813Z"
    }
   },
   "cell_type": "code",
   "source": [
    "art_name = res[0].metadata['name']\n",
    "authors = res[0].metadata['authors']\n",
    "year = res[0].metadata['year']\n",
    "description = res[0].metadata['description']\n",
    "\n",
    "def delete_apostrophe(text):\n",
    "    return text.replace(\"'\", \"\")\n",
    "\n",
    "prompt = f'Here is a description of the artwork \"{art_name}\" by {authors} ' \\\n",
    "         f'created in {year} year. Please, provide 3 examples ' \\\n",
    "         f'of contemporary artworks and artists that are somehow similar with this artwork. ' \\\n",
    "         f'Explain your decision. Do not divide description and reasoning parts, ' \\\n",
    "         f'combine them into the one paragraph. Give your answer in Russian, ' \\\n",
    "         f'but do not translate the names of artists and artworks.' \\\n",
    "         f'Use Markdown to structure your answer. Make the names of artists and artworks bold.' \\\n",
    "         f'\\nDescription:\\n{delete_apostrophe(description)}' \\\n",
    "         f'also provide a short description of the picture attached to the article'\n",
    "\n",
    "response = client.chat.completions.create(\n",
    "    model=\"gpt-4-turbo\",\n",
    "    messages=[\n",
    "        {\n",
    "            \"role\": \"user\",\n",
    "            \"content\": [\n",
    "                {\n",
    "                    \"type\": \"text\",\n",
    "                    \"text\": prompt,\n",
    "                },\n",
    "                {\n",
    "                    \"type\": \"image_url\",\n",
    "                    \"image_url\":{\n",
    "                       \"url\": res[0].metadata['img_list'][0]\n",
    "                    },\n",
    "                },\n",
    "            ],\n",
    "        }\n",
    "    ],\n",
    "    max_tokens=1000,\n",
    ")\n",
    "\n",
    "print(response.choices[0])"
   ],
   "id": "a9f9a7b6265ce88f",
   "outputs": [
    {
     "name": "stdout",
     "output_type": "stream",
     "text": [
      "Choice(finish_reason='stop', index=0, logprobs=None, message=ChatCompletionMessage(content='Произведение искусства \"Adelbrecht\" Мартина Спаньярда олицетворяет собой машину, переходящую в категорию \"он\", что отражает искусственный интеллект и взаимодействие с человеком. Сходные темы исследуют и другие современные художники. **Ken Rinaldo** с его проектом **\"Autopoiesis\"**, который включает в себя кинетические скульптуры, взаимодействующие с окружающими людьми и их движениями, демонстрирует как технологии могут \"жить\" и реагировать на человеческое присутствие. **Petra Cortright** со своим использованием цифровых медиа и интерактивных веб-инсталляций, таких как **\"VVEBCAM\"**, позволяет зрителям взаимодействовать с артом онлайн, что расширяет понятие присутствия и реакции произведения на внешние стимулы. **Rafael Lozano-Hemmer** и его **\"Pulse Room\"**, где световые инсталляции отзываются на пульс посетителей, также подчеркивают тему взаимодействия между человеком и объектом, совмещая технологии с человеческим фактором. Все эти произведения исследуют взаимосвязь между человеком и технологиями, колеблясь между \"быть\" и \"машина\", что напрямую отзывается на идеи, заявленные в \"Adelbrecht\" о гранях между существованием и механическим.\\n\\nИзображение прикрепленной фотографии демонстрирует сцену, где, вероятно, Adelbrecht – сферический объект, находящийся в движении в комнате советского стиля. Персона в красной кофте активно движется, вероятно, взаимодействует с Adelbrecht, что создает динамику и подчеркивает интерактивный элемент произведения. Старомодная обстановка комнаты добавляет контраст передовым технологиям, воплощенным в скульптуре.', role='assistant', function_call=None, tool_calls=None))\n"
     ]
    }
   ],
   "execution_count": 28
  },
  {
   "metadata": {},
   "cell_type": "code",
   "outputs": [],
   "execution_count": null,
   "source": "",
   "id": "a2c444d9bfacd015"
  }
 ],
 "metadata": {
  "kernelspec": {
   "display_name": "Python 3",
   "language": "python",
   "name": "python3"
  },
  "language_info": {
   "codemirror_mode": {
    "name": "ipython",
    "version": 2
   },
   "file_extension": ".py",
   "mimetype": "text/x-python",
   "name": "python",
   "nbconvert_exporter": "python",
   "pygments_lexer": "ipython2",
   "version": "2.7.6"
  }
 },
 "nbformat": 4,
 "nbformat_minor": 5
}
