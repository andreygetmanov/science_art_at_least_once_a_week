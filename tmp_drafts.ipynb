{
 "cells": [
  {
   "cell_type": "code",
   "id": "initial_id",
   "metadata": {
    "collapsed": true,
    "ExecuteTime": {
     "end_time": "2024-04-10T17:47:16.487824Z",
     "start_time": "2024-04-10T17:47:16.282999Z"
    }
   },
   "source": [
    "import random\n",
    "import json\n",
    "import os\n",
    "from openai import OpenAI\n",
    "from dotenv import load_dotenv\n",
    "\n",
    "load_dotenv()\n",
    "\n",
    "OPENAI_API_KEY = os.getenv('OPENAI_API_KEY')\n",
    "client = OpenAI(api_key=OPENAI_API_KEY)"
   ],
   "outputs": [],
   "execution_count": 1
  },
  {
   "metadata": {
    "ExecuteTime": {
     "end_time": "2024-04-10T17:47:16.680208Z",
     "start_time": "2024-04-10T17:47:16.488581Z"
    }
   },
   "cell_type": "code",
   "source": [
    "from core.artwork_analysis import Artwork, ArtworkRetriever, ArtworkAnalyser\n",
    "\n",
    "OPENAI_API_KEY = os.getenv('OPENAI_API_KEY')\n",
    "source = 'ars_electronica_prizewinners_ru.json'\n",
    "with open(source, 'r', encoding='utf-8') as f:\n",
    "    data = json.load(f)\n",
    "path = 'not_posted.txt'\n",
    "with open(path, 'r') as f:\n",
    "    not_posted = f.readline().split(',')\n",
    "\n",
    "key = random.choice(not_posted)\n",
    "\n",
    "main_artwork_data = data[key]\n",
    "\n",
    "main_artwork = Artwork(main_artwork_data)\n",
    "\n",
    "main_artwork"
   ],
   "id": "a2c444d9bfacd015",
   "outputs": [
    {
     "data": {
      "text/plain": [
       "<core.artwork_analysis.Artwork at 0x7e1ef052fe90>"
      ]
     },
     "execution_count": 2,
     "metadata": {},
     "output_type": "execute_result"
    }
   ],
   "execution_count": 2
  },
  {
   "metadata": {
    "ExecuteTime": {
     "end_time": "2024-04-10T17:47:58.814116Z",
     "start_time": "2024-04-10T17:47:16.680703Z"
    }
   },
   "cell_type": "code",
   "source": [
    "artwork_retriever = ArtworkRetriever(source)\n",
    "related_artworks = artwork_retriever.get_related_artworks(main_artwork)\n",
    "\n",
    "analysis = ArtworkAnalyser(OPENAI_API_KEY)\n",
    "analysis_result = analysis.analyze_artworks(main_artwork, related_artworks)\n",
    "\n",
    "print(analysis_result)"
   ],
   "id": "ff9a465dc816a660",
   "outputs": [
    {
     "name": "stdout",
     "output_type": "stream",
     "text": [
      "Prompt:  Imagine you are an experienced art critic. You are presented with descriptions of three artworks. The first one is the main artwork and two related artworks are similar to the first one. On the first step, you should provide a separate review of all the artworks. Artworks also have related images, analyze their content and use this analysis in your reviews. On the second step, summarize all of these artworks in terms of similarities and differences.\n",
      "\n",
      "**Main artwork**: name: **BIOKoSMoS - BioInk für die KunstBIOKoSMoS - BioInk for Art**, authors: **BIOKoSMoS Group**, year: **2016**, description: The aim of the *BioInk* project is to produce DIY ink the same way that artists did in bygone days. But now, this is done with new methods from the field of biotechnology. *BioInk* makes use of the glowing fluorescent inks produced by the deep-sea crown jellyfish, a color system that’s never before been used in this form for artistic work. In the *BIOKoSMoS* project sponsored by the Austrian Federal Ministry of Science, Research and Economy’s Sparkling Science Funding Program, pupils attending five partner schools have been working for two years at the nexus of art, research and education.To produce *BioInk*, molecular-biologically modified bacteria and wheat seedlings are combined in a lab to process multicolored glowing protein from crown jellyfish. Young researchers and artists first cleanse the materials in a lab, but in this form, it’s not yet suitable for artistic work. Using a wide variety or ideas and methods, the youngsters modify the protein so that it can be used as artistically processed material. Green fluorescent protein (GFP) is currently available as a watercolor-like paint or as glowing chalk. A few of the students have even been using the protein as a textile dye and a wood stain. A group of artists is currently experimenting with a paintable protein gel. And those are only a few of this work’s spinoffs.These “new forms of paint” are for use in artistic encounters and projects. Could it be that, sometime in the 21st century, artists will be able to produce, adapt and mix their own paints in their own little garage lab and thus attain independence from industrial manufacturers? *BioInk* is the first step.\n",
      "**Related artwork 1**: name: **The Great Work of the Metal Lover**, authors: **Adam Brown**, year: **2012**, description: _The Great Work of the Metal Lover_ is an artwork that sits at the intersection of art, science and alchemy, re-examining the problem of transmutation through the use of modern microbiological practice.In this work, gold production is accomplished by the pairing of a highly specialized metallotolerant extremophilic bacterium (_Cupriavidus metallidurans_) and an engineered atmosphere contained within a customized alchemical bioreactor. The extreme, minimal ecosystem within the bioreactor forces the bacteria to metabolize high concentrations of toxic AuCl4 (gold chloride), turning soluble gold into usable 24K gold._The Great Work of the Metal Lover_ exists in two parts. The first part is an installation consisting of custom laboratory equipment, including a glass alchemical bioreactor, a gas manifold and a gas tank filled with carbon dioxide and hydrogen. The process is all documented in real time by a USB microscope and a live video feed.The second part of the work consists of a series of images made with a scanning electron microscope. Digital prints are made using modern technology. Gold deposits produced by the bacteria are identified within a polysaccharide matrix formed by cell aggregates or biofilms. Then, using ancient gold-illumination techniques, 24K gold leaf is selectively applied to regions of the print where a bacterial gold deposit has been identified. Each print contains some of the gold that was produced in the bioreactor.Like alchemy, gold is imbued with secrets of the earth, origins of life and early metabolic processes. _The Great Work of the Metal Lover_ speaks directly to the scientific preoccupation with trying to shape and bend biology to our will within the post-biological age, essentially questioning the ethical and political ramifications of attempting to perfect nature.\n",
      "**Related artwork 2**: name: **Common Flowers - Flower Commons**, authors: **BCL, Shiho Fukuhara, Georg Tremmel**, year: **2009**, description: The “Common Flowers” project is based on the first commercially available genetically modified flower, the blue “Moondust” GM carnation developed and marketed by Japanese beer-brewing company Suntory. But although Suntory applied for and was granted permission to grow this GM plant in its key markets, it has chosen not to. Instead the blue GM flowers are grown in Columbia, harvested, and shipped as cut flowers to the worldwide markets. With “Common Flowers” we reverse the plantgrowing process, by growing, multiplying and technically “cloning” new plants from purchased cut flowers using plant tissue culture methods. The blue GM carnations are brought back to life using DIY biotech methods involving everyday kitchen utensils and easily purchasable and ready materials. And because the plants are officially considered “not harmful” and therefore legally permitted to be grown outside, we took the next logical step and released the blue GM carnation into the environment. This action is intended ask questions about the state of intellectual property, ownership and copyright issues surrounding the bio-hacking and bio-bending of plants. Our goal is to make these flowers available as shared “common flowers” and to create the free spaces where they can grow and prosper, in a “flower commons”.\n",
      "\n",
      "Give your answer in Russian, but do not translate the names of artists and artworks. Do not divide description and reasoning parts, combine them into the one paragraph. Use Markdown to structure your answer. Make the names of artists and artworks bold. Give your answer step-by-step for each artwork.\n",
      "Images:  ['https://archive.aec.at/media/assets/8967e89f61734a4e216145584dab6d9f.jpg', 'https://archive.aec.at/media/assets/a58712eae2870731cc1210045f363489.jpg', 'https://archive.aec.at/media/assets/359ecc699e670d4e93f97a24107ae8ce.jpg']\n",
      "[Choice(finish_reason='stop', index=0, logprobs=None, message=ChatCompletionMessage(content='### Основное произведение искусства\\n**Проект**: **BIOKoSMoS - BioInk for Art**\\n**Авторы**: **BIOKoSMoS Group**\\n**Год**: **2016**\\n\\nПроект **BIOKoSMoS - BioInk for Art** открывает новые горизонты в использовании биотехнологий для создания художественных материалов. Флюоресцентные чернила на основе белка медузы — это инновационный подход, который позволяет художникам не только создавать уникальные произведения, но и действовать в рамках самостоятельно разработанных экологических средств. Привлечение школьников к проекту добавляет особый социальный контекст, углубляя взаимосвязь между искусством, наукой и образованием. Экспериментальные методы, приведенные на изображении, демонстрируют процесс делания чего-то особо магического и визуально заметного из обычно невидимых элементов природы.\\n\\n### Связанное произведение 1\\n**Проект**: **The Great Work of the Metal Lover**\\n**Авторы**: **Adam Brown**\\n**Год**: **2012**\\n\\n**The Great Work of the Metal Lover** исследует границы между наукой и алхимией, используя бактерии для преобразования растворимого золота в 24-каратное. Это произведение не только вызывает восхищение своим техническим исполнением и научной основой, но и заставляет задуматься о моральных и этических аспектах такого рода экспериментов. Серебристо-желтые участки на микроскопических изображениях, обогащенные золотом, превращаются в художественные объекты, тем самым переосмысливают визуальные и научные практики.\\n\\n### Связанное произведение 2\\n**Проект**: **Common Flowers - Flower Commons**\\n**Авторы**: **BCL, Shiho Fukuhara, Georg Tremmel**\\n**Год**: **2009**\\n\\nПроект **Common Flowers - Flower Commons** затрагивает важнейшие вопросы биоэтики и интеллектуальной собственности через использование генетически модифицированных цветов. Переосмысление GM растений через доступные DIY-методы в контексте «общинных цветов» предлагает уникальный взгляд на возможности совместного использования и распространения генетических технологий. Изображение, показывающее простую лабораторную установку среди традиционных произведений искусства, подчеркивает противопоставление старого и нового, призывая к диалогу между прошлым и будущим.\\n\\n### Схожести и различия\\nВсе три проекта объединяет использование передовых био- и технологических методов для создания или изменения художественных материалов. Однако **BIOKoSMoS - BioInk for Art** и **The Great Work of the Metal Lover** фокусируются на создании новых материалов (чернила и золото соответственно), в то время как **Common Flowers - Flower Commons** делает упор на концептуальную, экологическую и социальную стороны использования GM растений. Эти произведения тесно переплетают научные достижения с художественной выразительностью, каждое по-своему рефлексируя на тему взаимоотношений человека, природы и технологий.', role='assistant', function_call=None, tool_calls=None))]\n"
     ]
    }
   ],
   "execution_count": 3
  },
  {
   "metadata": {
    "ExecuteTime": {
     "end_time": "2024-04-10T17:47:58.817639Z",
     "start_time": "2024-04-10T17:47:58.815102Z"
    }
   },
   "cell_type": "code",
   "source": [
    "# from core.document_retrieval import VectorDB, Retriever\n",
    "\n",
    "# source = 'ars_electronica_prizewinners_ru.json'\n",
    "# path = 'not_posted.txt'\n",
    "# \n",
    "# vector_db = VectorDB(source)\n",
    "# vector_db.load()\n",
    "# vector_db.create_db()\n",
    "# retriever = Retriever(vector_db)\n",
    "# \n",
    "# with open(source, 'r', encoding='utf-8') as f:\n",
    "#     data = json.load(f)\n",
    "# \n",
    "# with open(path, 'r') as f:\n",
    "#     not_posted = f.readline().split(',')\n",
    "# \n",
    "# key = random.choice(not_posted)\n",
    "# print(f'Key is {key}')\n",
    "# artwork = data[key]\n",
    "# \n",
    "# print(\"Source:\\n\")\n",
    "# print(artwork[\"description_ru\"], \"\\n\")\n",
    "# \n",
    "# res = retriever.get_top_k(artwork['description_ru'], key, 2)\n",
    "# \n",
    "# print(\"Recs:\\n\")\n",
    "# for example in res:\n",
    "#     print(example.page_content, \"\\n\")\n",
    "#     \n",
    "#     \n",
    "# def delete_apostrophe(text):\n",
    "#     return text.replace(\"'\", \"\")\n",
    "# \n",
    "# art_name_main = artwork['name']\n",
    "# authors_main = artwork['authors']\n",
    "# year_main = artwork['year']\n",
    "# description_main = delete_apostrophe(artwork['description'])\n",
    "# image_main = artwork['img_list'][0]\n",
    "# \n",
    "# art_name_0 = res[0].metadata['name']\n",
    "# authors_0 = res[0].metadata['authors']\n",
    "# year_0 = res[0].metadata['year']\n",
    "# description_0 = delete_apostrophe(res[0].metadata['description'])\n",
    "# image_0 = res[0].metadata['img_list'][0]\n",
    "# \n",
    "# art_name_1 = res[1].metadata['name']\n",
    "# authors_1 = res[1].metadata['authors']\n",
    "# year_1 = res[1].metadata['year']\n",
    "# description_1 = delete_apostrophe(res[1].metadata['description'])\n",
    "# image_1 = res[1].metadata['img_list'][0]"
   ],
   "id": "b5161ea464d84ab0",
   "outputs": [],
   "execution_count": 4
  },
  {
   "metadata": {
    "ExecuteTime": {
     "end_time": "2024-04-10T17:47:58.825466Z",
     "start_time": "2024-04-10T17:47:58.818510Z"
    }
   },
   "cell_type": "code",
   "source": [
    "# prompt = f'Imagine you are an experienced art critic' \\\n",
    "#          f'You are presented with descriptions of three artworks.' \\\n",
    "#          f'The first one is a main artwork and two related artworks are similar to the first one.' \\\n",
    "#          f'On the first step you should provide a separate review of all the artworks.' \\\n",
    "#          f'Artworks also have related images, analyze their content and use this analysis in your reviews.' \\\n",
    "#          f'On the second step summarize all of these artworks in terms of similarities and differences.' \\\n",
    "#          f'Main artwork: name: {art_name_main}, authors: {authors_main}, year: {year_main}, description: {description_main}' \\\n",
    "#          f'Related artwork 1: name: {art_name_0}, authors: {authors_0}, year: {year_0}, description: {description_0}' \\\n",
    "#          f'Related artwork 2: name: {art_name_1}, authors: {authors_1}, year: {year_1}, description: {description_1}' \\\n",
    "#          f'Give your answer in Russian, but do not translate the names of artists and artworks.' \\\n",
    "#          f'Do not divide description and reasoning parts, combine them into the one paragraph' \\\n",
    "#          f'Use Markdown to structure your answer. Make the names of artists and artworks bold.' \\\n",
    "#          f'Give your answer step-by-step for each artwork.'\n",
    "# \n",
    "# response = client.chat.completions.create(\n",
    "#     model=\"gpt-4-turbo\",\n",
    "#     messages=[\n",
    "#         {\n",
    "#             \"role\": \"user\",\n",
    "#             \"content\": [\n",
    "#                 {\n",
    "#                     \"type\": \"text\",\n",
    "#                     \"text\": prompt,\n",
    "#                 },\n",
    "#                 {\n",
    "#                     \"type\": \"image_url\",\n",
    "#                     \"image_url\":{\n",
    "#                        \"url\": image_main,\n",
    "#                        \"detail\": \"low\"\n",
    "#                     },\n",
    "#                 },\n",
    "#                                 {\n",
    "#                     \"type\": \"image_url\",\n",
    "#                     \"image_url\":{\n",
    "#                        \"url\": image_0,\n",
    "#                        \"detail\": \"low\"\n",
    "#                     },\n",
    "#                 },\n",
    "#                                 {\n",
    "#                     \"type\": \"image_url\",\n",
    "#                     \"image_url\":{\n",
    "#                        \"url\": image_1,\n",
    "#                        \"detail\": \"low\"\n",
    "#                     },\n",
    "#                 },\n",
    "#             ],\n",
    "#         }\n",
    "#     ],\n",
    "#     max_tokens=1000,\n",
    "# )\n",
    "# \n",
    "# print(response.choices[0])"
   ],
   "id": "a9f9a7b6265ce88f",
   "outputs": [],
   "execution_count": 5
  },
  {
   "metadata": {
    "ExecuteTime": {
     "end_time": "2024-04-10T17:47:58.827037Z",
     "start_time": "2024-04-10T17:47:58.825918Z"
    }
   },
   "cell_type": "code",
   "source": "",
   "id": "fc2dceb590659bf",
   "outputs": [],
   "execution_count": 5
  }
 ],
 "metadata": {
  "kernelspec": {
   "display_name": "Python 3",
   "language": "python",
   "name": "python3"
  },
  "language_info": {
   "codemirror_mode": {
    "name": "ipython",
    "version": 2
   },
   "file_extension": ".py",
   "mimetype": "text/x-python",
   "name": "python",
   "nbconvert_exporter": "python",
   "pygments_lexer": "ipython2",
   "version": "2.7.6"
  }
 },
 "nbformat": 4,
 "nbformat_minor": 5
}
